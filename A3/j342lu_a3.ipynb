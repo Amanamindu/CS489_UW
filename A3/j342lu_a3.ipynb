{
 "cells": [
  {
   "cell_type": "markdown",
   "metadata": {},
   "source": [
    "# A3"
   ]
  },
  {
   "cell_type": "code",
   "execution_count": 1,
   "metadata": {
    "code_folding": [
     0
    ]
   },
   "outputs": [],
   "source": [
    "# Standard imports\n",
    "import numpy as np\n",
    "import matplotlib.pylab as plt\n",
    "%matplotlib inline\n",
    "import Network as Network\n",
    "import copy"
   ]
  },
  {
   "cell_type": "markdown",
   "metadata": {
    "heading_collapsed": true
   },
   "source": [
    "# Q1: Vanishing Gradient"
   ]
  },
  {
   "cell_type": "markdown",
   "metadata": {
    "hidden": true
   },
   "source": [
    "## (a)"
   ]
  },
  {
   "cell_type": "markdown",
   "metadata": {
    "hidden": true
   },
   "source": [
    "$$\n",
    "\\sigma(z) = \\frac{1}{1+e^{-z}} \\\\\n",
    "\\sigma^{'}(z) = \\frac{e^z}{(1+e^z)^2} \\\\\n",
    "$$\n",
    "Let\n",
    "$$\n",
    "t = e^z > 0 \\\\\n",
    "$$\n",
    "We have\n",
    "$$\n",
    "\\sigma^{'}(z) = \\frac{e^z}{(1+e^z)^2} = \\frac{t}{(1+t)^2} = \\frac{t}{t^2 + 2t + 1} = \\frac{1}{t + 2 + \\frac{1}{t}} \\leq \\frac{1}{4}\n",
    "$$\n",
    "Where we take the equal sign when t = 2, i.e. $z = ln2$  \n",
    "So $|w\\sigma^{'}(wh+b)| \\leq |\\frac{1}{4}w|$  \n",
    "And we know $|w\\sigma^{'}(wh+b)| \\geq 1$ can only occur if $|w| \\geq 4$\n",
    "\n"
   ]
  },
  {
   "cell_type": "markdown",
   "metadata": {
    "hidden": true
   },
   "source": [
    "## (b)"
   ]
  },
  {
   "cell_type": "markdown",
   "metadata": {
    "hidden": true
   },
   "source": [
    "Let \n",
    "$$\n",
    "x = \\sigma(z) = \\sigma(wh+b)\n",
    "$$\n",
    "from part (a), we have \n",
    "$$\n",
    "\\sigma^{'}(z) = \\frac{e^z}{(1+e^z)^2} = \\sigma(z)(1 - \\sigma(z)) = x(1-x)\n",
    "$$\n",
    "Suppose \n",
    "$$|w| \\geq 4$$\n",
    "Consider the set of input currents h for which \n",
    "$$|w\\sigma^{'}(wh+b)| \\geq 1$$\n",
    "i.e.\n",
    "$$ |\\sigma^{'}(wh+b)| \\geq \\frac{1}{|w|}$$\n",
    "i.e.\n",
    "$$ |x(1-x)| \\geq \\frac{1}{|w|}$$\n",
    "Solve for x for in the case when\n",
    "$$ |x(1-x)| = \\frac{1}{|w|}$$\n",
    "We get\n",
    "$$ \n",
    "x_{max} = \\frac{1+\\sqrt{1-\\frac{4}{|w|}}}{2} \\\\\n",
    "x_{min} = \\frac{1-\\sqrt{1-\\frac{4}{|w|}}}{2}\n",
    "$$ \n",
    "Since $x = \\sigma(z) = \\sigma(wh+b)$ is monotonically increasing w.r.t. z,  \n",
    "$x = \\sigma(z) = \\sigma(wh+b)$ is monotonically increasing w.r.t. h if w > 0. i.e. for w > 0\n",
    "$$\n",
    "\\sigma(wh_{max}+b) = \\frac{1}{1 + e^{-(wh_{max}+b)}} = x_{max} = \\frac{1+\\sqrt{1 - \\frac{4}{|w|}}}{2}\\\\\n",
    "\\sigma(wh_{min}+b) = \\frac{1}{1 + e^{-(wh_{min}+b)}} = x_{min} = \\frac{1-\\sqrt{1 - \\frac{4}{|w|}}}{2}\n",
    "$$\n",
    "$x = \\sigma(z) = \\sigma(wh+b)$ is monotonically decreasing w.r.t. h if w < 0. i.e. for w < 0\n",
    "$$\n",
    "\\sigma(wh_{max}+b) = \\frac{1}{1 + e^{-(wh_{max}+b)}} = x_{min} = \\frac{1-\\sqrt{1 - \\frac{4}{|w|}}}{2}\\\\\n",
    "\\sigma(wh_{min}+b) = \\frac{1}{1 + e^{-(wh_{min}+b)}} = x_{max} = \\frac{1+\\sqrt{1 - \\frac{4}{|w|}}}{2}\n",
    "$$\n",
    "where $h_{max}$, $h_{min}$ are the corresponding end points of the interval satisfying the given constraint.  \n",
    "Solve for $h_{max}$, $h_{min}$:  \n",
    "(1)For w > 0:\n",
    "$$\n",
    "\\begin{align}\n",
    "h_{max} = -\\frac{1}{w} ln\\left[\\frac{|w|}{2}\\left(1-\\sqrt{1-\\frac{4}{|w|}}-\\frac{2}{|w|}\\right)\\right]-\\frac{b}{w} \\\\\n",
    "h_{min} = -\\frac{1}{w} ln\\left[\\frac{|w|}{2}\\left(1+\\sqrt{1-\\frac{4}{|w|}}-\\frac{2}{|w|}\\right)\\right]-\\frac{b}{w} \\\\\n",
    "\\end{align}\n",
    "$$\n",
    "$$\n",
    "\\begin{align}\n",
    "\\Delta h = h_{max} - h_{min}\n",
    "&= \\frac{1}{w}ln\\frac{\\frac{|w|}{2}\\left(1+\\sqrt{1-\\frac{4}{|w|}}-\\frac{2}{|w|}\\right)}{\\frac{|w|}{2}\\left(1-\\sqrt{1-\\frac{4}{|w|}}-\\frac{2}{|w|}\\right)}\\\\\n",
    "&= \\frac{1}{w}ln\\frac{1-\\frac{2}{|w|}+\\sqrt{1-\\frac{4}{|w|}}}{1-\\frac{2}{|w|}-\\sqrt{1-\\frac{4}{|w|}}}\\\\\n",
    "&= \\frac{1}{w}ln\\frac{{\\left(1-\\frac{2}{|w|}+\\sqrt{1-\\frac{4}{|w|}}\\right)}^2}{\\frac{4}{w^2}}\\\\\n",
    "&= \\frac{2}{w}ln\\frac{\\left(1-\\frac{2}{|w|}+\\sqrt{1-\\frac{4}{|w|}}\\right)}{\\frac{2}{|w|}}\\\\\n",
    "&= \\frac{2}{w}ln\\left[\\frac{|w|}{2}\\left(1+\\sqrt{1-\\frac{4}{|w|}}\\right)-1\\right]\\\\\n",
    "&= \\frac{2}{|w|}ln\\left[\\frac{|w|}{2}\\left(1+\\sqrt{1-\\frac{4}{|w|}}\\right)-1\\right]\\\\\n",
    "\\end{align}\n",
    "$$\n",
    "(2)Similarly, For w < 0:\n",
    "$$\n",
    "\\begin{align}\n",
    "h_{max} = -\\frac{1}{w} ln(\\frac{|w|}{2}(1-\\sqrt{1-\\frac{4}{|w|}}-\\frac{2}{|w|}))-\\frac{b}{w} \\\\\n",
    "h_{min} = -\\frac{1}{w} ln(\\frac{|w|}{2}(1+\\sqrt{1-\\frac{4}{|w|}}-\\frac{2}{|w|}))-\\frac{b}{w} \\\\\n",
    "\\end{align}\n",
    "$$\n",
    "$$\n",
    "\\begin{align}\n",
    "\\Delta h = h_{max} - h_{min}\n",
    "&= -\\frac{2}{w}ln\\left[\\frac{|w|}{2}\\left(1+\\sqrt{1-\\frac{4}{|w|}}\\right)-1\\right]\\\\\n",
    "&= \\frac{2}{|w|}ln\\left[\\frac{|w|}{2}\\left(1+\\sqrt{1-\\frac{4}{|w|}}\\right)-1\\right]\\\\\n",
    "\\end{align}\n",
    "$$\n",
    "Therefore, the set of activity values for h satisfying the given constraint can range over an interval no greater in the width than\n",
    "$$\n",
    "\\frac{2}{|w|}ln\\left[\\frac{|w|}{2}\\left(1+\\sqrt{1-\\frac{4}{|w|}}\\right)-1\\right]\\\\\n",
    "$$"
   ]
  },
  {
   "cell_type": "markdown",
   "metadata": {
    "hidden": true
   },
   "source": [
    "## (c) Plots"
   ]
  },
  {
   "cell_type": "code",
   "execution_count": 2,
   "metadata": {
    "hidden": true
   },
   "outputs": [
    {
     "data": {
      "image/png": "[encoded data removed]",
      "text/plain": [
       "<matplotlib.figure.Figure at 0x1e6d9a06f28>"
      ]
     },
     "metadata": {},
     "output_type": "display_data"
    },
    {
     "name": "stdout",
     "output_type": "stream",
     "text": [
      "|w| = 6.9 yields the maximum value\n"
     ]
    }
   ],
   "source": [
    "# === YOUR CODE HERE ===\n",
    "w_choices = np.arange(4.0, 10.0, 0.1)\n",
    "w_to_f = {}\n",
    "for w in w_choices:\n",
    "    f = 2 / w * np.log(w / 2 * (1 + np.sqrt(1 - 4 / w)) - 1)\n",
    "    w_to_f[w] = f\n",
    "plt.figure()\n",
    "plt.xlabel(\"|w| values\")\n",
    "plt.ylabel(\"function values\")\n",
    "f_values = [w_to_f[w] for w in w_choices]\n",
    "plt.plot(w_choices, f_values)\n",
    "plt.show()\n",
    "best_index = np.argmax(np.array(f_values))\n",
    "best_w = w_choices[best_index]\n",
    "print(\"|w| = %.1f yields the maximum value\" % best_w)"
   ]
  },
  {
   "cell_type": "markdown",
   "metadata": {},
   "source": [
    "# Q2: Dropout"
   ]
  },
  {
   "cell_type": "markdown",
   "metadata": {},
   "source": [
    "## Dataset"
   ]
  },
  {
   "cell_type": "code",
   "execution_count": 3,
   "metadata": {
    "code_folding": []
   },
   "outputs": [],
   "source": [
    "def GenerateDatasets(n):\n",
    "    # 1D -> 1D (line mapping)\n",
    "    n_input = 1\n",
    "    n_output = 1\n",
    "    noise = 0.5\n",
    "\n",
    "    #np.random.seed(452)\n",
    "    a = np.random.rand()/2.\n",
    "    m = np.random.rand() + 0.5\n",
    "    b = np.random.rand()-0.5\n",
    "\n",
    "    def myfunc(x):\n",
    "        return a*x**2 + m*x + b\n",
    "\n",
    "    # Create a training dataset\n",
    "    n_samples = n\n",
    "    training_output = []\n",
    "    training_input = []\n",
    "    xv = np.linspace(-1, 1, n_samples)\n",
    "    for idx in range(n_samples):\n",
    "        #x = np.random.rand()*2. - 1.\n",
    "        x = xv[idx]\n",
    "        t = myfunc(x) + np.random.normal(scale=noise)\n",
    "        training_input.append(np.array([x]))\n",
    "        training_output.append(np.array([t]))\n",
    "\n",
    "    # Create a testing dataset\n",
    "    test_input = []\n",
    "    test_output = []\n",
    "    n_test_samples = 300\n",
    "    xv = np.linspace(-1, 1, n_test_samples)\n",
    "    for idx in range(n_test_samples):\n",
    "        #x = np.random.rand()*2. - 1.\n",
    "        x = xv[idx] #+ np.random.normal(scale=0.1)\n",
    "        t = myfunc(x) + np.random.normal(scale=noise)\n",
    "        test_input.append(np.array([x]))\n",
    "        test_output.append(np.array([t]))\n",
    "\n",
    "\n",
    "    train = [np.array(training_input), np.array(training_output)]\n",
    "    test = [np.array(test_input), np.array(test_output)]\n",
    "    \n",
    "    return train, test"
   ]
  },
  {
   "cell_type": "markdown",
   "metadata": {},
   "source": [
    "## Sample Code"
   ]
  },
  {
   "cell_type": "code",
   "execution_count": 4,
   "metadata": {},
   "outputs": [],
   "source": [
    "# Here is an example, creating a Network object.\n",
    "net = Network.Network(cost='cross-entropy')\n",
    "net.AddLayer(Network.Layer(1))\n",
    "net.AddLayer(Network.Layer(6, act='logistic'))\n",
    "net.AddLayer(Network.Layer(1, act='logistic'))"
   ]
  },
  {
   "cell_type": "code",
   "execution_count": 5,
   "metadata": {},
   "outputs": [],
   "source": [
    "# Generate the training and testing datasets\n",
    "P = 5\n",
    "train, test = GenerateDatasets(P)"
   ]
  },
  {
   "cell_type": "code",
   "execution_count": 6,
   "metadata": {},
   "outputs": [],
   "source": [
    "# Train the network\n",
    "progress = net.SGD(train[0], train[1], epochs=100, lrate=1.)"
   ]
  },
  {
   "cell_type": "code",
   "execution_count": 7,
   "metadata": {},
   "outputs": [
    {
     "name": "stdout",
     "output_type": "stream",
     "text": [
      "Training cost = -1.2817604732179768\n",
      "    Test cost = -0.6304182156523207\n"
     ]
    }
   ],
   "source": [
    "# Evaluate the cost \n",
    "print('Training cost = '+str(net.Evaluate(train[0], train[1])))\n",
    "print('    Test cost = '+str(net.Evaluate(test[0], test[1])))\n",
    "\n",
    "# These results won't necessarily make sense, since the network model\n",
    "# might not be the right choice for the dataset."
   ]
  },
  {
   "cell_type": "markdown",
   "metadata": {},
   "source": [
    "## 2 (a), (b), 3 (a) Completing the RobustNetwork Class"
   ]
  },
  {
   "cell_type": "code",
   "execution_count": 8,
   "metadata": {},
   "outputs": [],
   "source": [
    "class RobustNetwork(Network.Network):\n",
    "    \n",
    "    def FeedForward(self, x, dropout=0):\n",
    "        '''\n",
    "            y = net.FeedForward(x, dropout=0)\n",
    "\n",
    "            Runs the network forward, starting with x as input.\n",
    "            However, a random subset of the hidden nodes are set to 0 activity.\n",
    "            Returns the activity of the output layer.\n",
    "\n",
    "            Inputs:\n",
    "              x is a batch of inputs\n",
    "              dropout is a probability that a node is dropped, in [0,1]\n",
    "              \n",
    "            Outputs:\n",
    "              y is the batch of outputs (no dropout or the output layer)\n",
    "        '''\n",
    "        if dropout==0.:\n",
    "            self.dropout_nonzero = False  # Internal flag for dropout\n",
    "            super(RobustNetwork, self).FeedForward(x)\n",
    "        else:\n",
    "            self.dropout_nonzero = True   # Internal flag for dropout\n",
    "            \n",
    "            x = np.array(x)  # Convert input to array, in case it's not\n",
    "            \n",
    "            self.lyr[0].h = x # Set input layer\n",
    "            \n",
    "            self.mask = []  # mask will record which nodes were dropped\n",
    "            self.mask.append(None)  # Input layer does not have dropout\n",
    "            self.proportion = [] # proportion of actually activated nodes\n",
    "            proportion = 1\n",
    "            self.proportion.append(1.0)\n",
    "            \n",
    "            # Loop over connections except the last connection\n",
    "            for pre,post,W in zip(self.lyr[:-2], self.lyr[1:-1], self.W):             \n",
    "                # Calc. input current to next layer\n",
    "                h = pre.h / proportion\n",
    "                post.z = h @ W + post.b\n",
    "\n",
    "                # Use activation function to get activities\n",
    "                post.h = post.sigma(post.z)\n",
    "                \n",
    "                # Apply mask to get dropped activation\n",
    "                prob = 1 - dropout\n",
    "                mask = np.random.binomial(1, prob, post.h.shape)     \n",
    "                post.h = post.h * mask\n",
    "                self.mask.append(mask)\n",
    "                \n",
    "                # Write down the proportion for the next iteration\n",
    "                proportion = np.mean(mask)\n",
    "                self.proportion.append(proportion)\n",
    "            \n",
    "            # For the last output layer, no dropout is applied\n",
    "            pre = self.lyr[-2]\n",
    "            post = self.lyr[-1]\n",
    "            W = self.W[-1]\n",
    "            h = pre.h / proportion\n",
    "            post.z = h @ W + post.b\n",
    "            post.h = post.sigma(post.z)\n",
    "            self.proportion.append(1.0)\n",
    "                \n",
    "        # Return activity of output layer\n",
    "        return self.lyr[-1].h\n",
    "    \n",
    "    \n",
    "    \n",
    "    def BackProp(self, t, lrate=0.05, decay=0.):\n",
    "        '''\n",
    "            net.BackProp(targets, lrate=0.05)\n",
    "            \n",
    "            Given the current network state and targets t, updates the connection\n",
    "            weights and biases using the backpropagation algorithm.\n",
    "            \n",
    "            Inputs:\n",
    "             t      an array of targets (number of samples must match the\n",
    "                    network's output)\n",
    "             lrate  learning rate\n",
    "             decay  is the coefficient for weight/bias decay\n",
    "        '''\n",
    "        t = np.array(t)  # convert t to an array, in case it's not\n",
    "        \n",
    "        # Error gradient for top layer\n",
    "        dEdz = self.TopGradient(t)\n",
    "        \n",
    "        # Loop down through the layers\n",
    "        for i in range(self.n_layers-2, -1, -1):\n",
    "            pre = self.lyr[i]\n",
    "            \n",
    "            # Gradient w.r.t. weights\n",
    "            dEdW = pre.h.T @ dEdz\n",
    "            \n",
    "            if self.dropout_nonzero:\n",
    "                dEdW /= self.proportion[i]\n",
    "                \n",
    "            if decay != 0.:\n",
    "                dEdW += decay * self.W[i]\n",
    "                \n",
    "            # Gradient w.r.t. biases\n",
    "            dEdb = np.sum(dEdz, axis=0)\n",
    "            \n",
    "            if decay != 0.:\n",
    "                dEdb += decay * self.lyr[i+1].b\n",
    "\n",
    "            # Project error gradient down to layer below.\n",
    "            if i>0:\n",
    "                dEdz = ( dEdz @ self.W[i].T ) * pre.sigma_z_p(pre.z)\n",
    "                if self.dropout_nonzero:\n",
    "                    dEdz /= self.proportion[i]\n",
    "            \n",
    "            # Update weights and biases\n",
    "            self.W[i] -= lrate*dEdW\n",
    "            self.lyr[i+1].b -= lrate*dEdb\n",
    "    \n",
    "    \n",
    "    def SGD(self, inputs, targets, lrate=0.05, epochs=1, batch_size=10, decay=0, dropout=0):\n",
    "        '''\n",
    "            progress = net.SGD(inputs, targets, lrate=0.05, epochs=1, decay=0, dropout=0)\n",
    "\n",
    "            Performs Stochastic Gradient Descent on the network.\n",
    "            Run through the dataset in batches 'epochs' number of times, incrementing the\n",
    "            network weights after each batch. For each epoch, it\n",
    "            shuffles the dataset.\n",
    "\n",
    "            Inputs:\n",
    "              inputs  is an array of input samples\n",
    "              targets is a corresponding array of targets\n",
    "              lrate   is the learning rate (try 0.001 to 5)\n",
    "              epochs  is the number of times to go through the training data\n",
    "              decay   is the decay coefficient for the weights and biases\n",
    "              dropout is the dropout probability\n",
    "              \n",
    "            Outputs:\n",
    "              progress is an (expochs)x2 array with epoch in the first column, and \n",
    "                      cost in the second column\n",
    "        '''\n",
    "        loss_history = []\n",
    "        for k in range(epochs):\n",
    "            batches = Network.MakeBatches(inputs, targets, batch_size=batch_size, shuffle=True)\n",
    "            for mini_batch in batches:\n",
    "                self.FeedForward(mini_batch[0], dropout=dropout)\n",
    "                self.BackProp(mini_batch[1], decay=decay)\n",
    "\n",
    "            loss_history.append([k, self.Evaluate(inputs, targets)])\n",
    "\n",
    "        return np.array(loss_history)\n"
   ]
  },
  {
   "cell_type": "markdown",
   "metadata": {},
   "source": [
    "## (c) Create the Network"
   ]
  },
  {
   "cell_type": "code",
   "execution_count": 9,
   "metadata": {},
   "outputs": [],
   "source": [
    "# === YOUR CODE HERE ===\n",
    "original_net = RobustNetwork(cost='MSE')\n",
    "input_layer = Network.Layer(n_nodes=1, act='None')\n",
    "hidden_layer = Network.Layer(n_nodes=10, act='arctan')\n",
    "output_layer = Network.Layer(n_nodes=1, act='identity')\n",
    "original_net.AddLayer(input_layer)\n",
    "original_net.AddLayer(hidden_layer)\n",
    "original_net.AddLayer(output_layer)\n",
    "\n",
    "dropout_net = copy.deepcopy(original_net)"
   ]
  },
  {
   "cell_type": "markdown",
   "metadata": {},
   "source": [
    "## (d) Train and Evaluate without dropout"
   ]
  },
  {
   "cell_type": "code",
   "execution_count": 10,
   "metadata": {},
   "outputs": [
    {
     "name": "stdout",
     "output_type": "stream",
     "text": [
      "Training cost = 0.000518896431477866\n",
      "    Test cost = 0.4005107611455607\n"
     ]
    }
   ],
   "source": [
    "# === YOUR CODE HERE ===\n",
    "train, test = GenerateDatasets(5)\n",
    "original_net.SGD(train[0], train[1], lrate=1., epochs=5000, batch_size=5)\n",
    "print('Training cost = '+str(original_net.Evaluate(train[0], train[1])))\n",
    "print('    Test cost = '+str(original_net.Evaluate(test[0], test[1])))"
   ]
  },
  {
   "cell_type": "markdown",
   "metadata": {},
   "source": [
    "## (e) Train and Evaluate with dropout"
   ]
  },
  {
   "cell_type": "code",
   "execution_count": 11,
   "metadata": {},
   "outputs": [
    {
     "name": "stdout",
     "output_type": "stream",
     "text": [
      "Training cost = 0.06463066748330723\n",
      "    Test cost = 0.34002900991518864\n"
     ]
    }
   ],
   "source": [
    "# === YOUR CODE HERE ===\n",
    "dropout_net.SGD(train[0], train[1], lrate=1., epochs=5000, batch_size=5, dropout=0.2)\n",
    "print('Training cost = '+str(dropout_net.Evaluate(train[0], train[1])))\n",
    "print('    Test cost = '+str(dropout_net.Evaluate(test[0], test[1])))"
   ]
  },
  {
   "cell_type": "markdown",
   "metadata": {},
   "source": [
    "## (f) Plot training data and models"
   ]
  },
  {
   "cell_type": "code",
   "execution_count": 12,
   "metadata": {},
   "outputs": [
    {
     "data": {
      "image/png": "[encoded data removed]",
      "text/plain": [
       "<matplotlib.figure.Figure at 0x1e6d9cd11d0>"
      ]
     },
     "metadata": {},
     "output_type": "display_data"
    }
   ],
   "source": [
    "# === YOUR CODE HERE ===\n",
    "plt.figure()\n",
    "plt.xlabel('x')\n",
    "plt.ylabel('target')\n",
    "plt.scatter(train[0], train[1])\n",
    "plt.scatter(test[0], test[1])\n",
    "s = np.linspace(-1, 1, 200).reshape(1, 200).T\n",
    "original_y = original_net.FeedForward(s)\n",
    "plt.plot(s, original_y, 'b--')\n",
    "dropout_y = dropout_net.FeedForward(s)\n",
    "plt.plot(s, dropout_y, 'r--')\n",
    "plt.show()\n"
   ]
  },
  {
   "cell_type": "markdown",
   "metadata": {},
   "source": [
    "## (g) Average performance over 10 datasets"
   ]
  },
  {
   "cell_type": "code",
   "execution_count": 13,
   "metadata": {},
   "outputs": [
    {
     "name": "stdout",
     "output_type": "stream",
     "text": [
      "average_orignal_cost = 0.42125990885508857\n",
      "average_dropout_cost = 0.3390899522585909\n"
     ]
    }
   ],
   "source": [
    "# === YOUR CODE HERE ===\n",
    "average_original_cost = 0\n",
    "average_dropout_cost = 0\n",
    "for i in range(10):\n",
    "    original_net = RobustNetwork(cost='MSE')\n",
    "    input_layer = Network.Layer(n_nodes=1, act='None')\n",
    "    hidden_layer = Network.Layer(n_nodes=10, act='arctan')\n",
    "    output_layer = Network.Layer(n_nodes=1, act='identity')\n",
    "    original_net.AddLayer(input_layer)\n",
    "    original_net.AddLayer(hidden_layer)\n",
    "    original_net.AddLayer(output_layer)\n",
    "\n",
    "    dropout_net = copy.deepcopy(original_net)\n",
    "\n",
    "    train, test = GenerateDatasets(5)\n",
    "    original_net.SGD(train[0], train[1], lrate=1., epochs=5000, batch_size=5)\n",
    "    dropout_net.SGD(train[0], train[1], lrate=1., epochs=5000, batch_size=5, dropout=0.2)\n",
    "    original_test_cost = original_net.Evaluate(test[0], test[1])\n",
    "    dropout_test_cost = dropout_net.Evaluate(test[0], test[1])\n",
    "    average_original_cost += original_test_cost\n",
    "    average_dropout_cost += dropout_test_cost\n",
    "    \n",
    "average_original_cost /= 10\n",
    "average_dropout_cost /= 10\n",
    "print(\"average_orignal_cost = \" + str(average_original_cost))\n",
    "print(\"average_dropout_cost = \" + str(average_dropout_cost))\n",
    "    \n"
   ]
  },
  {
   "cell_type": "markdown",
   "metadata": {},
   "source": [
    "Dropout is preferred because it has lower average test cost over 10 test sets"
   ]
  },
  {
   "cell_type": "markdown",
   "metadata": {},
   "source": [
    "# Q3: Weight Decay"
   ]
  },
  {
   "cell_type": "markdown",
   "metadata": {},
   "source": [
    "## (a) Implement weight decay in BackProp (see code above)"
   ]
  },
  {
   "cell_type": "markdown",
   "metadata": {},
   "source": [
    "## (b) Average performance over 10 datasets"
   ]
  },
  {
   "cell_type": "code",
   "execution_count": 14,
   "metadata": {},
   "outputs": [
    {
     "name": "stdout",
     "output_type": "stream",
     "text": [
      "average_orignal_cost = 0.5069187858589623\n",
      "average_decay_cost = 0.4818192111723148\n"
     ]
    }
   ],
   "source": [
    "# === YOUR CODE HERE ===\n",
    "# === YOUR CODE HERE ===\n",
    "average_original_cost = 0\n",
    "average_decay_cost = 0\n",
    "for i in range(10):\n",
    "    original_net = RobustNetwork(cost='MSE')\n",
    "    input_layer = Network.Layer(n_nodes=1, act='None')\n",
    "    hidden_layer = Network.Layer(n_nodes=10, act='arctan')\n",
    "    output_layer = Network.Layer(n_nodes=1, act='identity')\n",
    "    original_net.AddLayer(input_layer)\n",
    "    original_net.AddLayer(hidden_layer)\n",
    "    original_net.AddLayer(output_layer)\n",
    "\n",
    "    decay_net = copy.deepcopy(original_net)\n",
    "\n",
    "    train, test = GenerateDatasets(5)\n",
    "    original_net.SGD(train[0], train[1], lrate=1., epochs=5000, batch_size=5)\n",
    "    decay_net.SGD(train[0], train[1], lrate=1., epochs=5000, batch_size=5, decay=0.0004)\n",
    "    original_test_cost = original_net.Evaluate(test[0], test[1])\n",
    "    decay_test_cost = decay_net.Evaluate(test[0], test[1])\n",
    "    average_original_cost += original_test_cost\n",
    "    average_decay_cost += decay_test_cost\n",
    "    \n",
    "average_original_cost /= 10\n",
    "average_decay_cost /= 10\n",
    "print(\"average_orignal_cost = \" + str(average_original_cost))\n",
    "print(\"average_decay_cost = \" + str(average_decay_cost))\n",
    "    \n"
   ]
  },
  {
   "cell_type": "markdown",
   "metadata": {},
   "source": [
    "Decay is preferred because it has lower average test cost over 10 test sets"
   ]
  },
  {
   "cell_type": "markdown",
   "metadata": {},
   "source": [
    "# Q4: Classifier Networks"
   ]
  },
  {
   "cell_type": "markdown",
   "metadata": {},
   "source": [
    "## Create an interesting dataset"
   ]
  },
  {
   "cell_type": "code",
   "execution_count": 15,
   "metadata": {
    "code_folding": [
     18
    ]
   },
   "outputs": [],
   "source": [
    "def ClassPlot(x, y):\n",
    "    # FeedForward\n",
    "    yc = Network.OneHot(y)\n",
    "    colour_options = ['y', 'b', 'r', 'g', 'k']\n",
    "    cidx = np.argmax(yc, axis=1)\n",
    "    colours = [colour_options[k] for k in cidx]\n",
    "    plt.scatter(x[:,0],x[:,1], color=colours, marker='.')\n",
    "    plt.axis('equal');\n",
    "\n",
    "def GaussianCluster(mu, sa, N, theta=0.):\n",
    "    theta_rad = theta/180*np.pi\n",
    "    c, s = np.cos(theta_rad), np.sin(theta_rad)\n",
    "    R = np.array([[c,-s],[s,c]])\n",
    "    M = R @ np.diag(sa) @ R.T\n",
    "    y = np.random.multivariate_normal(mu, M, N)\n",
    "    return y\n",
    "\n",
    "def CreateDataset(params):\n",
    "    '''\n",
    "        train, test = CreateDataset(params)\n",
    "        \n",
    "        Creates a dataset using a bunch of Gaussian clouds.\n",
    "        \n",
    "        Inputs:\n",
    "          params is a list of 5-tuples. Each tuple (or list)\n",
    "             describes a 2-D Gaussian cloud:\n",
    "             1) the mean\n",
    "             2) standard deviation along x and y directions\n",
    "             3) rotation of cloud (degrees counter-clockwise)\n",
    "             4) class index\n",
    "             5) number of points\n",
    "             \n",
    "        Outputs:\n",
    "          train is a list containing 2 arrays\n",
    "             - the first array contains the training inputs,\n",
    "               one per row\n",
    "             - the second array contains the corresponding classes\n",
    "          test has the same structure as train, but with\n",
    "               half the number of samples\n",
    "    '''\n",
    "    train_inputs = []\n",
    "    train_outputs = []\n",
    "    test_inputs = []\n",
    "    test_outputs = []\n",
    "    all_c = [p[3] for p in params]\n",
    "    n_classes = np.max(all_c)\n",
    "    for p in params:\n",
    "        xx = GaussianCluster(p[0], p[1], p[4], theta=p[2])\n",
    "        yy = np.zeros((p[4], n_classes+1))\n",
    "        yy[:,p[3]] = 1.\n",
    "        train_inputs.append(xx)\n",
    "        train_outputs.append(yy)\n",
    "        xtest = GaussianCluster(p[0], p[1], int(p[4]/2), theta=p[2])\n",
    "        ytest = np.zeros((int(p[4]/2), n_classes+1))\n",
    "        ytest[:,p[3]] = 1.\n",
    "        test_inputs.append(xtest)\n",
    "        test_outputs.append(ytest)\n",
    "    train = [np.vstack(train_inputs), np.vstack(train_outputs)]\n",
    "    test = [np.vstack(test_inputs), np.vstack(test_outputs)]\n",
    "    return train, test\n",
    "\n",
    "# 0=y, 1=b, 2=r\n",
    "params = [[[0.5, 0.5],   [0.025, 0.01],  -45, 0, 50],\n",
    "          [[-0.5,-0.5],  [0.025, 0.01],  -45, 0, 50],\n",
    "          [[-0.3,-0.35], [0.04,0.01],     10, 0, 80],\n",
    "          [[0.6,0],      [0.01,0.01],      0, 0, 50],\n",
    "          [[0.1,-0.04],  [0.1,0.005],     20, 0, 80],\n",
    "          [[0.5,-0.5],   [0.02,0.01],     45, 1, 50],\n",
    "          [[0,0.6],      [0.01,0.01],      0, 1, 50],\n",
    "          [[-0.5,0.1],   [0.02,0.01],     30, 1, 80],\n",
    "          [[-0.5,0.5],   [0.02,0.01],     45, 2, 50],\n",
    "          [[0,-0.6],     [0.01,0.01],      0, 2, 50],\n",
    "          [[0.2,0.3],    [0.01,0.004],     0, 2, 80],\n",
    "          [[-0.2,0.37],  [0.02,0.005],   -30, 2, 50],\n",
    "          [[0.25,-0.3],  [0.005,0.01],     0, 3, 60],\n",
    "          [[-0.1,0.1],   [0.01,0.01],    -30, 3, 50]\n",
    "         ]"
   ]
  },
  {
   "cell_type": "code",
   "execution_count": 16,
   "metadata": {},
   "outputs": [],
   "source": [
    "train, test = CreateDataset(params)"
   ]
  },
  {
   "cell_type": "code",
   "execution_count": 17,
   "metadata": {},
   "outputs": [
    {
     "data": {
      "image/png": "[encoded data removed]",
      "text/plain": [
       "<matplotlib.figure.Figure at 0x1e6d9d7e4a8>"
      ]
     },
     "metadata": {},
     "output_type": "display_data"
    }
   ],
   "source": [
    "ClassPlot(train[0], train[1]);"
   ]
  },
  {
   "cell_type": "markdown",
   "metadata": {},
   "source": [
    "## (a) Create and Evaluate a Neural Network"
   ]
  },
  {
   "cell_type": "code",
   "execution_count": 18,
   "metadata": {},
   "outputs": [],
   "source": [
    "net = RobustNetwork('categorical-cross-entropy')\n",
    "input_layer = Network.Layer(2)\n",
    "hidden_layer1 = Network.Layer(6, 'arctan')\n",
    "#hidden_layer2 = Network.Layer(3, 'arctan')\n",
    "hidden_layer3 = Network.Layer(4, 'arctan')\n",
    "output_layer = Network.Layer(4, 'softmax')\n",
    "net.AddLayer(input_layer)\n",
    "net.AddLayer(hidden_layer1)\n",
    "#net.AddLayer(hidden_layer2)\n",
    "net.AddLayer(hidden_layer3)\n",
    "net.AddLayer(output_layer)\n",
    "train, test = CreateDataset(params)\n",
    "progress = net.SGD(train[0], train[1], epochs=400, lrate=0.5)"
   ]
  },
  {
   "cell_type": "markdown",
   "metadata": {},
   "source": [
    "## (b) Evaluate Model"
   ]
  },
  {
   "cell_type": "code",
   "execution_count": 19,
   "metadata": {},
   "outputs": [
    {
     "name": "stdout",
     "output_type": "stream",
     "text": [
      "Test accuracy = 0.9204819277108434\n"
     ]
    }
   ],
   "source": [
    "# === YOUR CODE HERE ===\n",
    "y = net.FeedForward(test[0])\n",
    "accuracy = Network.ClassificationAccuracy(y, test[1])\n",
    "print(\"Test accuracy = \" + str(accuracy))"
   ]
  },
  {
   "cell_type": "code",
   "execution_count": 20,
   "metadata": {},
   "outputs": [
    {
     "data": {
      "image/png": "[encoded data removed]",
      "text/plain": [
       "<matplotlib.figure.Figure at 0x1e6d99ece48>"
      ]
     },
     "metadata": {},
     "output_type": "display_data"
    }
   ],
   "source": [
    "ClassPlot(test[0], y);"
   ]
  },
  {
   "cell_type": "markdown",
   "metadata": {},
   "source": [
    "## (c) Crappy Network"
   ]
  },
  {
   "cell_type": "code",
   "execution_count": 21,
   "metadata": {},
   "outputs": [],
   "source": [
    "# === YOUR CODE HERE ===\n",
    "net = RobustNetwork('categorical-cross-entropy')\n",
    "input_layer = Network.Layer(2)\n",
    "hidden_layer1 = Network.Layer(1, 'ReLU')\n",
    "output_layer = Network.Layer(4, 'softmax')\n",
    "net.AddLayer(input_layer)\n",
    "net.AddLayer(hidden_layer1)\n",
    "#net.AddLayer(hidden_layer2)\n",
    "#net.AddLayer(hidden_layer3)\n",
    "net.AddLayer(output_layer)\n",
    "train, test = CreateDataset(params)\n",
    "progress = net.SGD(train[0], train[1], epochs=400, lrate=0.5)"
   ]
  },
  {
   "cell_type": "code",
   "execution_count": 22,
   "metadata": {},
   "outputs": [
    {
     "name": "stdout",
     "output_type": "stream",
     "text": [
      "Test accuracy is: 0.3710843373493976\n"
     ]
    }
   ],
   "source": [
    "# === YOUR CODE HERE ===\n",
    "y = net.FeedForward(test[0])\n",
    "accuracy = Network.ClassificationAccuracy(y, test[1])\n",
    "print(\"Test accuracy is: \" + str(accuracy))"
   ]
  },
  {
   "cell_type": "code",
   "execution_count": null,
   "metadata": {},
   "outputs": [],
   "source": []
  },
  {
   "cell_type": "code",
   "execution_count": null,
   "metadata": {},
   "outputs": [],
   "source": []
  }
 ],
 "metadata": {
  "kernelspec": {
   "display_name": "Python [default]",
   "language": "python",
   "name": "python3"
  },
  "language_info": {
   "codemirror_mode": {
    "name": "ipython",
    "version": 3
   },
   "file_extension": ".py",
   "mimetype": "text/x-python",
   "name": "python",
   "nbconvert_exporter": "python",
   "pygments_lexer": "ipython3",
   "version": "3.6.4"
  },
  "toc": {
   "base_numbering": 1,
   "nav_menu": {},
   "number_sections": true,
   "sideBar": true,
   "skip_h1_title": false,
   "title_cell": "Table of Contents",
   "title_sidebar": "Contents",
   "toc_cell": false,
   "toc_position": {},
   "toc_section_display": true,
   "toc_window_display": false
  }
 },
 "nbformat": 4,
 "nbformat_minor": 2
}
