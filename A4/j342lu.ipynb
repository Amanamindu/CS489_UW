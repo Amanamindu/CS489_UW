{
 "cells": [
  {
   "cell_type": "markdown",
   "metadata": {},
   "source": [
    "# A4: Autoencoders and RNNs"
   ]
  },
  {
   "cell_type": "code",
   "execution_count": 1,
   "metadata": {
    "code_folding": [
     0
    ]
   },
   "outputs": [],
   "source": [
    "# Standard imports\n",
    "import numpy as np\n",
    "import Network as Network\n",
    "import mnist_loader\n",
    "import matplotlib.pylab as plt\n",
    "%matplotlib inline\n",
    "import copy"
   ]
  },
  {
   "cell_type": "markdown",
   "metadata": {
    "heading_collapsed": true
   },
   "source": [
    "# Q1: Autoencoder"
   ]
  },
  {
   "cell_type": "markdown",
   "metadata": {
    "heading_collapsed": true,
    "hidden": true
   },
   "source": [
    "## (a) Derivative of Cosine Proximity"
   ]
  },
  {
   "cell_type": "markdown",
   "metadata": {
    "hidden": true
   },
   "source": [
    "Loss function is\n",
    "$$\n",
    "C ( \\vec{y} , \\vec{t} ) = \\frac{ - \\left( \\vec{y} \\cdot \\vec{t} \\right) }{ \\| \\vec{y} \\| \\ \\| \\vec{t} \\|}\n",
    "$$\n",
    "\n",
    "We are given that the output layer uses the identity mapping as an activation function, $\\vec{y} = \\vec{z}$."
   ]
  },
  {
   "cell_type": "markdown",
   "metadata": {
    "hidden": true
   },
   "source": [
    "Suppose we have n examples $y_1, ..., y_n, t_1, ..., t_n$. Let $\\vec y$ = $\\vec y_i$ and $\\vec t$ = $\\vec t_i$, then:\n",
    "$$\n",
    "E(Y, T) = <C(\\vec y, \\vec t)>_{\\vec y \\in Y, \\vec t \\in T} = \\frac{1}{n}\\sum_{i=1}^n C(\\vec y_i, \\vec t_i)\n",
    "$$\n",
    "And therefore:\n",
    "$$\n",
    "\\begin{align}\n",
    "\\frac{\\partial E}{\\partial y_i} \n",
    "  &= \\frac{1}{n}\\sum_{j=1}^n \\frac{\\partial C(\\vec y_j, \\vec t_j)}{\\partial \\vec y_i} \\\\\n",
    "  &= \\frac{1}{n}\\frac{\\partial C(\\vec y_i, \\vec t_i)}{\\partial \\vec y_i} \\\\\n",
    "  &= \\frac{1}{n}\\frac{\\partial}{\\partial \\vec y_i} \\left(\\frac{-(\\vec y_i \\cdot \\vec t_i)}{\\lVert \\vec y_i \\rVert \\lVert \\vec t_i \\rVert}\\right) \\\\\n",
    "  &= - \\frac{1}{n}\\frac{\\partial}{\\partial \\vec y_i}\\left(\\frac{\\vec t_i^T \\vec y_i}{\\lVert \\vec y_i \\rVert \\lVert \\vec t_i \\rVert} \\right) \\\\\n",
    "  &= - \\frac{1}{n} \\left( \\frac{\\vec t_i \\lVert \\vec y_i \\rVert \\lVert \\vec t_i \\rVert - \\vec t_i^T \\vec y_i \\frac{\\lVert \\vec t_i \\rVert}{\\lVert \\vec y_i \\rVert}\\vec y_i}{\\lVert \\vec y_i \\rVert ^2 \\lVert \\vec t_i \\rVert ^2} \\right) \\\\\n",
    "  &= - \\frac{1}{n} \\left( \\frac{1}{\\lVert \\vec y_i \\rVert \\lVert \\vec t_i \\rVert}\\vec t_i - \\frac{\\vec t_i^T \\vec y_i}{\\lVert \\vec y_i \\rVert ^3 \\lVert \\vec t_i \\rVert} \\vec y_i \\right) \\\\\n",
    "  &= - \\frac{1}{n} \\left( \\frac{1}{\\lVert \\vec y \\rVert \\lVert \\vec t \\rVert}\\vec t - \\frac{\\vec t^T \\vec y}{\\lVert \\vec y \\rVert ^3 \\lVert \\vec t \\rVert} \\vec y \\right)\n",
    "\\end{align}\n",
    "$$"
   ]
  },
  {
   "cell_type": "markdown",
   "metadata": {
    "heading_collapsed": true,
    "hidden": true
   },
   "source": [
    "## (b) Implement Derivative of Cosine Proximity"
   ]
  },
  {
   "cell_type": "code",
   "execution_count": 2,
   "metadata": {
    "hidden": true
   },
   "outputs": [],
   "source": [
    "# Cosine Proximity\n",
    "def CosineProximity(y, t):\n",
    "    '''\n",
    "        C = CosineProximity(y, t)\n",
    "        \n",
    "        Evaluates the average cosine proximity for the batch.\n",
    "        \n",
    "        Inputs:\n",
    "          y is a batch of samples, with samples stored in rows\n",
    "          t is a batch of targets\n",
    "          \n",
    "        Output:\n",
    "          C is the average cosine proximity (cost)\n",
    "    '''\n",
    "    C = -np.sum(y*t, axis=1)\n",
    "    C /= np.linalg.norm(y, axis=1)\n",
    "    C /= np.linalg.norm(t, axis=1)\n",
    "    return np.sum(C) / Network.NSamples(y)\n",
    "\n",
    "\n",
    "# CosineProximity_p\n",
    "def CosineProximity_p(y, t):\n",
    "    '''\n",
    "        dCdy = CosineProximity_p(y, t)\n",
    "        \n",
    "        Computes the gradient of the cosine proximity cost function.\n",
    "        \n",
    "        Inputs:\n",
    "          y is a batch of samples, with samples stored in rows\n",
    "          t is a batch of targets\n",
    "          \n",
    "        Output:\n",
    "          dCdy is an array the same size as y, holding the derivative\n",
    "               of the cost with respect to each element in y\n",
    "    '''\n",
    "    \n",
    "    # ***** YOUR CODE HERE *****\n",
    "    dCdy = np.zeros_like(y)\n",
    "    y_norm = np.linalg.norm(y, axis=1).reshape(-1, 1)\n",
    "    t_norm = np.linalg.norm(t, axis=1).reshape(-1, 1)\n",
    "    N = Network.NSamples(y)\n",
    "    first_term = -1 / N\n",
    "    a = np.sum(t / (y_norm * t_norm), axis=0)\n",
    "    bbb = np.sum(t*y , axis=1).reshape(-1, 1) / (y_norm * y_norm * y_norm * t_norm)\n",
    "    bb = bbb * y\n",
    "    b = np.sum(bb, axis=0)\n",
    "    second_term = a - b\n",
    "    dCdy = first_term * second_term\n",
    "    \n",
    "    return dCdy\n",
    "   "
   ]
  },
  {
   "cell_type": "markdown",
   "metadata": {
    "heading_collapsed": true,
    "hidden": true
   },
   "source": [
    "## (c) Create and Train a Network\n",
    "You can make your network use your cost function and its derivative by setting the member variables,\n",
    "\n",
    "    mynet.cost = CosineProximity\n",
    "    mynet.cost_p = CosineProximity_p"
   ]
  },
  {
   "cell_type": "code",
   "execution_count": 3,
   "metadata": {
    "hidden": true
   },
   "outputs": [],
   "source": [
    "# Read in 10000 MNIST samples\n",
    "train, validate, test = mnist_loader.load_data_wrapper()\n",
    "train_in = np.array(train[0][:10000])"
   ]
  },
  {
   "cell_type": "code",
   "execution_count": 4,
   "metadata": {
    "hidden": true
   },
   "outputs": [
    {
     "data": {
      "image/png": "[encoded data removed]",
      "text/plain": [
       "<Figure size 1080x288 with 4 Axes>"
      ]
     },
     "metadata": {},
     "output_type": "display_data"
    }
   ],
   "source": [
    "# Display some sample digit images\n",
    "plt.figure(figsize=[15,4])\n",
    "n_digits = 4\n",
    "for n in range(n_digits):\n",
    "    idx = np.random.randint(10000)\n",
    "    plt.subplot(2,n_digits,n + 1)\n",
    "    plt.imshow(np.reshape(train_in[idx], [28,28]), cmap='gray'); plt.axis('off');"
   ]
  },
  {
   "cell_type": "code",
   "execution_count": 5,
   "metadata": {
    "hidden": true
   },
   "outputs": [],
   "source": [
    "# ***** YOUR CODE HERE *****\n",
    "\n",
    "# construct the network\n",
    "net = Network.Network()\n",
    "net.cost = CosineProximity\n",
    "net.cost_p = CosineProximity_p\n",
    "input_layer = Network.Layer(n_nodes=784)\n",
    "hidden_layer = Network.Layer(n_nodes=50, act='logistic')\n",
    "output_layer = Network.Layer(n_nodes=784, act='identity')\n",
    "net.AddLayer(input_layer)\n",
    "net.AddLayer(hidden_layer)\n",
    "net.AddLayer(output_layer)\n",
    "\n",
    "# train the network\n",
    "history = net.SGD(train_in, train_in, lrate=1., epochs=250, batch_size=50)"
   ]
  },
  {
   "cell_type": "markdown",
   "metadata": {
    "heading_collapsed": true,
    "hidden": true
   },
   "source": [
    "## (d) View Reconstructions"
   ]
  },
  {
   "cell_type": "code",
   "execution_count": 6,
   "metadata": {},
   "outputs": [
    {
     "data": {
      "image/png": "[encoded data removed]",
      "text/plain": [
       "<Figure size 1080x288 with 20 Axes>"
      ]
     },
     "metadata": {},
     "output_type": "display_data"
    }
   ],
   "source": [
    "# ***** YOUR CODE HERE *****\n",
    "y = net.FeedForward(train_in)\n",
    "indices = [1, 3, 5, 7, 2, 0, 13, 15, 17, 4]\n",
    "plt.figure(figsize=[15,4])\n",
    "n_digits = 10\n",
    "for n in range(n_digits):\n",
    "    idx = indices[n]\n",
    "    plt.subplot(2,n_digits,n + 1)\n",
    "    plt.imshow(np.reshape(train_in[idx], [28,28]), cmap='gray'); plt.axis('off');\n",
    "    plt.subplot(2, n_digits, n + 1 + n_digits)\n",
    "    plt.imshow(np.reshape(y[idx], [28,28]), cmap='gray'); plt.axis('off');"
   ]
  },
  {
   "cell_type": "markdown",
   "metadata": {
    "heading_collapsed": true
   },
   "source": [
    "# Q2: BPTT"
   ]
  },
  {
   "cell_type": "markdown",
   "metadata": {
    "hidden": true
   },
   "source": [
    "## (a)"
   ]
  },
  {
   "cell_type": "markdown",
   "metadata": {
    "hidden": true
   },
   "source": [
    "$$\n",
    "\\begin{align}\n",
    "\\frac{\\partial E}{\\partial V}\n",
    "  &= \\sum_{i=1}^\\tau \\left( \\frac{\\partial E}{\\partial y^i} \\frac{\\partial y^i}{\\partial V} \\right) \\\\\n",
    "  &= \\sum_{i=1}^\\tau \\left( \\frac{\\partial \\sum_{j=1}^\\tau C(y^j, t^j)}{\\partial y^i} \\frac{\\partial y^i}{\\partial V} \\right) \\\\\n",
    "  &= \\sum_{i=1}^\\tau \\left( \\frac{\\partial C(y^i, t^i)}{\\partial y^i} \\frac{\\partial y^i}{\\partial V} \\right) \\\\\n",
    "  &= \\sum_{i=1}^\\tau \\left( \\frac{\\partial C(y^i, t^i)}{\\partial y^i} \\odot \\frac{dy^i}{dz^i} \\right) \\frac{\\partial z^i}{\\partial V} \\\\\n",
    "  &= \\sum_{i=1}^\\tau \\left( \\frac{\\partial C(y^i, t^i)}{\\partial y^i} \\odot \\sigma^{'}(z^i) \\right) \\left( h^i \\right)^T\n",
    "\\end{align}\n",
    "$$"
   ]
  },
  {
   "cell_type": "markdown",
   "metadata": {
    "hidden": true
   },
   "source": [
    "## (b)"
   ]
  },
  {
   "cell_type": "markdown",
   "metadata": {
    "hidden": true
   },
   "source": [
    "$$\n",
    "\\begin{align}\n",
    "\\frac{\\partial E}{\\partial U}\n",
    "  &= \\sum_{i=1}^\\tau \\left( \\frac{\\partial E}{\\partial h^i} \\frac{\\partial h^i}{\\partial U} \\right) \\\\\n",
    "  &= \\sum_{i=1}^\\tau \\left( \\frac{\\partial E}{\\partial h^i} \\odot \\frac{dh^i}{ds^i} \\right) \\frac{\\partial s^i}{\\partial U} \\\\\n",
    "  &= \\sum_{i=1}^\\tau \\left( \\frac{\\partial E}{\\partial h^i} \\odot \\sigma^{'}(s^i) \\right) (x^i)^T\n",
    "\\end{align}\n",
    "$$"
   ]
  },
  {
   "cell_type": "markdown",
   "metadata": {
    "hidden": true
   },
   "source": [
    "## (c)"
   ]
  },
  {
   "cell_type": "markdown",
   "metadata": {
    "hidden": true
   },
   "source": [
    "$$\\begin{align}\n",
    "\\frac{\\partial E}{\\partial W}\n",
    "  &= \\sum_{i=1}^{\\tau-1} \\left( \\frac{\\partial E}{\\partial h^{i+1}} \\frac{\\partial h^{i+1}}{\\partial W} \\right) \\\\\n",
    "  &= \\sum_{i=1}^{\\tau-1} \\left( \\frac{\\partial E}{\\partial h^{i+1}} \\odot \\frac{dh^{i+1}}{ds^{i+1}} \\right) \\frac{\\partial s^{i+1}}{\\partial W} \\\\\n",
    "  &= \\sum_{i=1}^{\\tau-1} \\left( \\frac{\\partial E}{\\partial h^{i+1}} \\odot \\sigma^{'}(s^{i+1}) \\right) (h^i)^T\n",
    "\\end{align}\n",
    "$$"
   ]
  },
  {
   "cell_type": "markdown",
   "metadata": {
    "hidden": true
   },
   "source": [
    "## (d)"
   ]
  },
  {
   "cell_type": "markdown",
   "metadata": {
    "hidden": true
   },
   "source": [
    "$$\\begin{align}\n",
    "\\frac{\\partial E}{\\partial b}\n",
    "  &= \\sum_{i=1}^\\tau \\left( \\frac{\\partial E}{\\partial h^i} \\frac{\\partial h^i}{\\partial b} \\right) \\\\\n",
    "  &= \\sum_{i=1}^\\tau \\left( \\frac{\\partial E}{\\partial h^i} \\odot \\frac{dh^i}{ds^i} \\right) \\frac{\\partial s^i}{\\partial b} \\\\\n",
    "  &= \\sum_{i=1}^\\tau \\left( \\frac{\\partial E}{\\partial h^i} \\odot \\sigma^{'}(s^i) \\right) \\cdot 1 \\\\\n",
    "  &= \\sum_{i=1}^\\tau \\left( \\frac{\\partial E}{\\partial h^i} \\odot \\sigma^{'}(s^i) \\right)\n",
    "\\end{align}$$"
   ]
  },
  {
   "cell_type": "markdown",
   "metadata": {
    "collapsed": true,
    "heading_collapsed": true
   },
   "source": [
    "# Q3: RNN"
   ]
  },
  {
   "cell_type": "markdown",
   "metadata": {
    "heading_collapsed": true,
    "hidden": true
   },
   "source": [
    "## Read in the data"
   ]
  },
  {
   "cell_type": "markdown",
   "metadata": {
    "hidden": true
   },
   "source": [
    "The code below creates two lists:\n",
    "  - `sentences`, and\n",
    "  - `next_chars`\n",
    "  \n",
    "Each list element represents a sequences of characters. There are 3 ways to represent a character:\n",
    "1. As a string, eg. `'b'`\n",
    "2. As an index to a character set, eg. `2`\n",
    "3. As a one-hot vector, eg. `[0, 0, 1, 0, ...]`\n",
    "\n",
    "The lists `sentences` and `next_chars` store the characters as indices (item 2 above). The utility functions\n",
    "  - `char2vec`\n",
    "  - `index2vec`\n",
    "  - `vec2char`\n",
    "  - `vec2index`\n",
    "  \n",
    "transform the characters between the 3 representations. You can also use the dictionaries `char_indices` and `indices_char` to convert between a string character and and index. The code below contains some examples."
   ]
  },
  {
   "cell_type": "code",
   "execution_count": 7,
   "metadata": {
    "hidden": true
   },
   "outputs": [
    {
     "name": "stdout",
     "output_type": "stream",
     "text": [
      "Character set:  abcdefghijklmnopqrstuvwxyz (first char is a space)\n",
      "There are 27 characters in our character set\n",
      "Here is how you can view one of the samples:\n",
      "Sample input: [on the ori]\n"
     ]
    }
   ],
   "source": [
    "import re\n",
    "text = open('origin_of_species.txt').read().lower()\n",
    "chars = sorted(list(set(text)))\n",
    "chars.insert(0, \"\\0\") #Add newline character\n",
    "vocab_size = len(chars)\n",
    "\n",
    "char_indices = dict((c, i) for i, c in enumerate(chars))\n",
    "indices_char = dict((i, c) for i, c in enumerate(chars))\n",
    "idx = [char_indices[c] for c in text]\n",
    "\n",
    "# Let's simplify it by keeping only letters and spaces\n",
    "filt_idx = []\n",
    "for i in idx:\n",
    "    if i<=24:\n",
    "        filt_idx.append(2)\n",
    "    elif i>24:\n",
    "        filt_idx.append(i)\n",
    "blah = ''.join([indices_char[f] for f in filt_idx])\n",
    "text = re.sub(' +', ' ', blah)\n",
    "chars = sorted(list(set(text)))\n",
    "vocab_size = len(chars)\n",
    "print('Character set: '+''.join(chars)+' (first char is a space)')\n",
    "\n",
    "char_indices = dict((c, i) for i, c in enumerate(chars))\n",
    "indices_char = dict((i, c) for i, c in enumerate(chars))\n",
    "idx = [char_indices[c] for c in text]\n",
    "\n",
    "print('There are '+str(vocab_size)+' characters in our character set')\n",
    "\n",
    "''.join(indices_char[i] for i in idx[:70])\n",
    "\n",
    "def char2vec(c):\n",
    "    v = np.zeros(vocab_size)\n",
    "    v[char_indices[c]] = 1.\n",
    "    return v\n",
    "\n",
    "def index2vec(i):\n",
    "    v = np.zeros(vocab_size)\n",
    "    v[i] = 1.\n",
    "    return v\n",
    "\n",
    "def vec2index(v):\n",
    "    i = np.argmax(v)\n",
    "    return i\n",
    "\n",
    "def vec2char(v):\n",
    "    return indices_char[vec2index(v)]\n",
    "\n",
    "'''Form the dataset in sentences'''\n",
    "sentences_length = 10\n",
    "sentences = []\n",
    "next_chars = []\n",
    "for i in range(0, 10000 - sentences_length + 1):\n",
    "    sentences.append(idx[i: i + sentences_length]) #Assume a sentence is made of X characters\n",
    "    next_chars.append(idx[i + 1: i + sentences_length + 1]) #Offset by 1 to the right for the target\n",
    "\n",
    "sentences = np.concatenate([[np.array(o)] for o in sentences[:-2]])\n",
    "next_chars = np.concatenate([[np.array(o)] for o in next_chars[:-2]])\n",
    "sentences.shape, next_chars.shape\n",
    "\n",
    "def read_sentence(idx):\n",
    "    return ''.join(indices_char[i] for i in idx)\n",
    "\n",
    "print('Here is how you can view one of the samples:')\n",
    "print('Sample input: ['+read_sentence(sentences[0])+']')"
   ]
  },
  {
   "cell_type": "code",
   "execution_count": 8,
   "metadata": {},
   "outputs": [
    {
     "name": "stdout",
     "output_type": "stream",
     "text": [
      "(9989, 10)\n",
      "(9989, 10)\n"
     ]
    }
   ],
   "source": [
    "print(np.array(sentences).shape)\n",
    "print(np.array(next_chars).shape)"
   ]
  },
  {
   "cell_type": "markdown",
   "metadata": {
    "hidden": true
   },
   "source": [
    "## Some utility functions"
   ]
  },
  {
   "cell_type": "code",
   "execution_count": 9,
   "metadata": {
    "hidden": true
   },
   "outputs": [],
   "source": [
    "def sigma(z):\n",
    "    return np.clip(z, a_min=0, a_max=None)  # ReLU\n",
    "    #return 1./(1+np.exp(-z))  # use this for logistic\n",
    "\n",
    "def sigma_primed(y):\n",
    "    return np.clip(np.sign(y), a_min=0, a_max=1)  # Derivative of ReLU\n",
    "    #return y*(1.-y)  # use this for logistic\n",
    "\n",
    "def softmax(z):\n",
    "    ez = np.exp(z)\n",
    "    denom = np.sum(ez)\n",
    "    return ez / denom\n",
    "\n",
    "def CrossEntropy(y, t):\n",
    "    return -sum(t*np.log(y))"
   ]
  },
  {
   "cell_type": "markdown",
   "metadata": {
    "heading_collapsed": true,
    "hidden": true
   },
   "source": [
    "## (a) Complete BPTT"
   ]
  },
  {
   "cell_type": "code",
   "execution_count": 51,
   "metadata": {
    "hidden": true
   },
   "outputs": [],
   "source": [
    "class RNN():\n",
    "    \n",
    "    def __init__(self, dims, seq_length=10):\n",
    "        '''\n",
    "         Input:\n",
    "           dims is [X, H, Y], where the input has layer has X neurons, the\n",
    "                hidden layer has H neurons, and the output layer has Y neurons.\n",
    "           seq_length is how many steps to unroll the RNN through time\n",
    "                (this is the same as tau in the lecture notes)\n",
    "        '''\n",
    "        self.X, self.H, self.Y = dims\n",
    "        self.seq_length = seq_length\n",
    "        # Input layer\n",
    "        self.xs = [np.zeros(self.X) for x in range(seq_length)] # activity\n",
    "        # Hidden layer\n",
    "        self.hs = [np.zeros(self.H) for x in range(seq_length)] # activity\n",
    "        # Output layer\n",
    "        self.ys = [np.zeros(self.Y) for x in range(seq_length)] # activity\n",
    "        \n",
    "        # Connection weights\n",
    "        self.U = np.random.normal(size=[self.H, self.X])/np.sqrt(self.X) # input->hidden\n",
    "        self.W = np.random.normal(size=[self.H, self.H])/np.sqrt(self.H) # hidden->hidden\n",
    "        self.V = np.random.normal(size=[self.Y, self.H])/np.sqrt(self.H) # hidden->output\n",
    "        self.b = np.zeros(self.H) # biases for hidden nodes\n",
    "        self.c = np.zeros(self.Y) # biases for output nodes\n",
    "        \n",
    "    def ForwardTT(self, seq_in):\n",
    "        '''\n",
    "         i = ForwardTT(seq_in)\n",
    "        \n",
    "         Propagates the RNN forward through time, saving all the intermediate\n",
    "         states that will be needed for backprop through time (BPTT).\n",
    "        \n",
    "         Input:\n",
    "           seq_in is a vector of indices, with self.seq_length elements.\n",
    "        \n",
    "         Output:\n",
    "           i is the index of the character predicted to follow the input.\n",
    "         \n",
    "         This method's main purpose is to update the states of the activites\n",
    "         in the time-unrolled network.\n",
    "        '''\n",
    "        self.xs[0] = index2vec(seq_in[0]) # convert to character vector\n",
    "        \n",
    "        # Starting input current for hidden nodes\n",
    "        ss = np.dot(self.U, self.xs[0]) + self.b\n",
    "        self.hs[0] = sigma(ss)  # Activation of hidden nodes\n",
    "        \n",
    "        # Input current for output nodes\n",
    "        zs = np.dot(self.V, self.hs[0]) + self.c\n",
    "        self.ys[0] = softmax(zs)  # Activation of output nodes\n",
    "        \n",
    "        # Now process forward in time\n",
    "        for i in range(1, self.seq_length):\n",
    "            self.xs[i] = index2vec(seq_in[i])  # input vector\n",
    "            \n",
    "            # Input current for hidden nodes, including recurrent connections\n",
    "            ss = np.dot(self.U, self.xs[i]) + np.dot(self.W, self.hs[i-1]) + self.b\n",
    "            self.hs[i] = sigma(ss)  # Activation\n",
    "            \n",
    "            # Input current for output nodes\n",
    "            zs = np.dot(self.V, self.hs[i]) + self.c\n",
    "            self.ys[i] = softmax(zs)  # Activation\n",
    "            \n",
    "        # Might as well output the final state of the output\n",
    "        return vec2index(self.ys[-1])\n",
    "    \n",
    "    \n",
    "    def BPTT(self, seq_in, seq_out):\n",
    "        '''\n",
    "         BPTT(seq_in, seq_out)\n",
    "         \n",
    "         Performs backprop through time on one sample given by the input and\n",
    "         output sequence.\n",
    "         \n",
    "         Input:\n",
    "           seq_in is a vector of indices specifying the input sequence of\n",
    "                   characters.\n",
    "           seq_out is a vector of indices specifying the output sequence of\n",
    "                   characters. Typically, seq_out is the same as seq_in, but\n",
    "                   shifted by 1 character.\n",
    "         \n",
    "         Output:\n",
    "           None, but the connection weights and biases are updated.\n",
    "        '''\n",
    "        # Initialize gradients to zero\n",
    "        self.dEdV = np.zeros(np.shape(self.V))\n",
    "        self.dEdW = np.zeros(np.shape(self.W))\n",
    "        self.dEdU = np.zeros(np.shape(self.U))\n",
    "        self.dEdb = np.zeros(np.shape(self.b))\n",
    "        self.dEdc = np.zeros(np.shape(self.c))\n",
    "        \n",
    "        # ===================\n",
    "        # ===================\n",
    "        # =  YOUR CODE HERE =\n",
    "        tau = self.seq_length\n",
    "        targets = [index2vec(seq_out[x]) for x in range(tau)]\n",
    "        T = np.array(targets)\n",
    "        Y = np.array(self.ys)\n",
    "        X = np.array(self.xs)\n",
    "        H = np.array(self.hs)\n",
    "        n = Network.NSamples(T)\n",
    "        \n",
    "        # dEdZ\n",
    "        self.dEdZ = (Y - T) / n\n",
    "        \n",
    "        # dEdV\n",
    "        self.dEdV = self.dEdZ.T @ H\n",
    "        \n",
    "        # dEdW\n",
    "        self.dEdH = np.empty((tau, self.H)) \n",
    "        dEdh_tau = self.V.T @ (self.dEdZ[-1][:])\n",
    "        self.dEdH[-1] = dEdh_tau\n",
    "        self.dEdW += (dEdh_tau * sigma_primed(H[-1][:])) @ H[-2][:].T\n",
    "        for i in range(tau-1, 1, -1):\n",
    "            self.dEdH[i-1] = self.V.T @ (self.dEdZ[i-1][:]) + self.W.T @ (sigma_primed(H[i][:]) * self.dEdH[i][:]) \n",
    "            self.dEdW += (self.dEdH[i-1] * sigma_primed(H[i-1][:])) @ H[i-2][:].T\n",
    "            \n",
    "        # dEdU\n",
    "        self.dEdU = (self.dEdH * sigma_primed(H)).T @ X\n",
    "        \n",
    "        # dEdb\n",
    "        self.dEdb = np.sum(self.dEdH * sigma_primed(H), axis=0)\n",
    "        \n",
    "        # dEdc\n",
    "        self.dEdc = np.sum(self.dEdZ, axis=0)\n",
    "        \n",
    "        # ===================\n",
    "        # ===================\n",
    "        \n",
    "            \n",
    "    def Generate(self, n=1):\n",
    "        '''\n",
    "         c = Generate(n=1)\n",
    "         \n",
    "         Runs the RNN from the last state after running ForwardTT, outputting\n",
    "         the next n characters.\n",
    "         \n",
    "         Input:\n",
    "           n is the number of characters you want to predict\n",
    "           \n",
    "         Output:\n",
    "           c is a string of n characters\n",
    "        '''\n",
    "        y = self.ys[-1]  # Final output of ForwardTT\n",
    "        c = vec2char(y)  # Convert it to a character string\n",
    "        h = self.hs[-1]  # Starting with last hidden state...\n",
    "        # Loop forward in time\n",
    "        # (no need to record states, since we won't be doing BPTT)\n",
    "        for nn in range(n-1):\n",
    "            x = copy.copy(y)  # Use last output as next input\n",
    "            \n",
    "            # Input current for hidden nodes\n",
    "            s = np.dot(self.U, x) + np.dot(self.W, h) + self.b\n",
    "            h = sigma(s)  # Activation\n",
    "            \n",
    "            # Input current for output nodes\n",
    "            z = np.dot(self.V, h) + self.c\n",
    "            y = softmax(z)  # Activation\n",
    "            \n",
    "            # And add the next character to our output string\n",
    "            c += vec2char(y)\n",
    "            \n",
    "        return c\n",
    "            \n",
    "    def Evaluate(self, train_in, train_out):\n",
    "        '''\n",
    "         loss = Evaluate(train_in, train_out)\n",
    "         \n",
    "         Evaluates the network on the supplied dataset.\n",
    "         \n",
    "         Input:\n",
    "           train_in is a list of input sequences (see ForwardTT for format of input)\n",
    "           train_out is the corresponding list of output sequences\n",
    "           \n",
    "         Output:\n",
    "           loss is the average cross entropy\n",
    "        '''\n",
    "        val = 0.\n",
    "        for x, t in zip(train_in, train_out):\n",
    "            self.ForwardTT(x)\n",
    "            for i in range(self.seq_length):\n",
    "                val += CrossEntropy(self.ys[i], index2vec(t[i]))\n",
    "        return val/len(train_in)\n",
    "            \n",
    "    def Train(self, train_in, train_out, kappa=0.05, epochs=1):\n",
    "        '''\n",
    "         Train(train_in, train_out, kappa=0.05, epochs=1)\n",
    "         \n",
    "         Performs epochs of gradient descent, performing BPTT after each sample.\n",
    "         \n",
    "         Input:\n",
    "           train_in and train_out is the training dataset\n",
    "           kappa is the learning rate\n",
    "           epochs is the number of times to go through the dataset\n",
    "           \n",
    "         Output:\n",
    "           None, but the connection weights and biases are updated\n",
    "        '''\n",
    "        # Loop over epochs\n",
    "        for e in range(epochs):\n",
    "            \n",
    "            # Shuffle the training data\n",
    "            data_shuffled = list(zip(train_in, train_out))\n",
    "            np.random.shuffle(data_shuffled)\n",
    "            \n",
    "            for x, t in data_shuffled:\n",
    "                self.ForwardTT(x)  # Forward through time\n",
    "                self.BPTT(x, t)    # Backprop through time\n",
    "                # Note that BPTT starts by resetting the gradients to zero.\n",
    "                \n",
    "                # Apply update to connection weights and biases\n",
    "                self.V -= kappa*self.dEdV\n",
    "                self.U -= kappa*self.dEdU\n",
    "                self.W -= kappa*self.dEdW\n",
    "                self.b -= kappa*self.dEdb\n",
    "                self.c -= kappa*self.dEdc\n",
    "\n",
    "            print('Epoch '+str(e)+', Loss = '+str(self.Evaluate(train_in, train_out)))"
   ]
  },
  {
   "cell_type": "markdown",
   "metadata": {
    "hidden": true
   },
   "source": [
    "## (b) Create the RNN"
   ]
  },
  {
   "cell_type": "code",
   "execution_count": 53,
   "metadata": {
    "hidden": true
   },
   "outputs": [],
   "source": [
    "# YOUR CODE HERE\n",
    "net = RNN((27, 400, 27))"
   ]
  },
  {
   "cell_type": "markdown",
   "metadata": {
    "hidden": true
   },
   "source": [
    "## (c) Train"
   ]
  },
  {
   "cell_type": "code",
   "execution_count": 54,
   "metadata": {
    "hidden": true
   },
   "outputs": [
    {
     "name": "stdout",
     "output_type": "stream",
     "text": [
      "Epoch 0, Loss = 26.37612024324856\n",
      "Epoch 1, Loss = 24.87914196034366\n",
      "Epoch 2, Loss = 23.999098075889542\n",
      "Epoch 3, Loss = 23.300253722348202\n",
      "Epoch 4, Loss = 22.815023354091608\n"
     ]
    }
   ],
   "source": [
    "# YOUR CODE HERE\n",
    "net.Train(sentences, next_chars, kappa=0.001, epochs=5)"
   ]
  },
  {
   "cell_type": "code",
   "execution_count": 55,
   "metadata": {
    "hidden": true
   },
   "outputs": [
    {
     "name": "stdout",
     "output_type": "stream",
     "text": [
      "Epoch 0, Loss = 22.533793566137884\n",
      "Epoch 1, Loss = 22.35382552090078\n",
      "Epoch 2, Loss = 22.080590838717725\n",
      "Epoch 3, Loss = 21.934544718089562\n",
      "Epoch 4, Loss = 21.725719415519396\n"
     ]
    }
   ],
   "source": [
    "# You might opt to have more than one train command, using different\n",
    "# learning rates and numbers of epochs. Each one builds on the results\n",
    "# from the last run.\n",
    "#net.Train(...)\n",
    "net.Train(sentences, next_chars, kappa=0.0007, epochs=5)"
   ]
  },
  {
   "cell_type": "code",
   "execution_count": 56,
   "metadata": {},
   "outputs": [
    {
     "name": "stdout",
     "output_type": "stream",
     "text": [
      "Epoch 0, Loss = 21.637652153415875\n",
      "Epoch 1, Loss = 21.556510118423482\n",
      "Epoch 2, Loss = 21.404763140844352\n",
      "Epoch 3, Loss = 21.312867402323448\n",
      "Epoch 4, Loss = 21.223337165408452\n"
     ]
    }
   ],
   "source": [
    "net.Train(sentences, next_chars, kappa=0.0005, epochs=5)"
   ]
  },
  {
   "cell_type": "code",
   "execution_count": 67,
   "metadata": {},
   "outputs": [
    {
     "name": "stdout",
     "output_type": "stream",
     "text": [
      "Epoch 0, Loss = 21.487261410662597\n",
      "Epoch 1, Loss = 21.05174847977682\n",
      "Epoch 2, Loss = 21.538205193730054\n",
      "Epoch 3, Loss = 20.923016247292185\n",
      "Epoch 4, Loss = 20.951982930382655\n"
     ]
    }
   ],
   "source": [
    "net.Train(sentences, next_chars, kappa=0.0005, epochs=5)"
   ]
  },
  {
   "cell_type": "code",
   "execution_count": 76,
   "metadata": {},
   "outputs": [
    {
     "name": "stdout",
     "output_type": "stream",
     "text": [
      "Epoch 0, Loss = 20.824809666524697\n",
      "Epoch 1, Loss = 20.779451847010115\n",
      "Epoch 2, Loss = 20.762847090516317\n",
      "Epoch 3, Loss = 20.765411868707172\n",
      "Epoch 4, Loss = 20.73481803512588\n"
     ]
    }
   ],
   "source": [
    "net.Train(sentences, next_chars, kappa=0.0001, epochs=5)"
   ]
  },
  {
   "cell_type": "markdown",
   "metadata": {
    "heading_collapsed": true,
    "hidden": true
   },
   "source": [
    "## (d) Evaluate"
   ]
  },
  {
   "cell_type": "code",
   "execution_count": 77,
   "metadata": {
    "hidden": true
   },
   "outputs": [
    {
     "name": "stdout",
     "output_type": "stream",
     "text": [
      "Input:      n introduc\n",
      "Prediction: n introduct s e\n",
      "Actual:     n introduction when \n"
     ]
    }
   ],
   "source": [
    "# A sample continuation.\n",
    "n = 38\n",
    "net.ForwardTT(sentences[n])\n",
    "blah = read_sentence(sentences[n])\n",
    "print('Input:      '+blah)\n",
    "print('Prediction: '+blah+net.Generate(5))\n",
    "print('Actual:     '+blah+read_sentence(sentences[n+10]))"
   ]
  },
  {
   "cell_type": "code",
   "execution_count": 78,
   "metadata": {
    "hidden": true
   },
   "outputs": [
    {
     "name": "stdout",
     "output_type": "stream",
     "text": [
      "harles dar\n",
      "harles dare ie  ti t\n"
     ]
    }
   ],
   "source": [
    "blah = 'harles dar'\n",
    "x = [char_indices[c] for c in blah]\n",
    "net.ForwardTT(x)\n",
    "print(blah)\n",
    "print(blah+net.Generate(10))"
   ]
  },
  {
   "cell_type": "code",
   "execution_count": 94,
   "metadata": {
    "hidden": true
   },
   "outputs": [
    {
     "name": "stdout",
     "output_type": "stream",
     "text": [
      "0.43\n"
     ]
    }
   ],
   "source": [
    "# YOUR CODE HERE\n",
    "acc = 0\n",
    "for i in range(1000):\n",
    "    n = np.random.randint(9900)\n",
    "    net.ForwardTT(sentences[n])\n",
    "    blah = read_sentence(sentences[n])\n",
    "    if net.Generate(1) == read_sentence(sentences[n+10])[0]:\n",
    "        acc += 1\n",
    "acc /= 1000\n",
    "print(acc)"
   ]
  },
  {
   "cell_type": "code",
   "execution_count": null,
   "metadata": {
    "hidden": true
   },
   "outputs": [],
   "source": []
  },
  {
   "cell_type": "code",
   "execution_count": null,
   "metadata": {},
   "outputs": [],
   "source": []
  }
 ],
 "metadata": {
  "kernelspec": {
   "display_name": "Python [default]",
   "language": "python",
   "name": "python3"
  },
  "language_info": {
   "codemirror_mode": {
    "name": "ipython",
    "version": 3
   },
   "file_extension": ".py",
   "mimetype": "text/x-python",
   "name": "python",
   "nbconvert_exporter": "python",
   "pygments_lexer": "ipython3",
   "version": "3.6.4"
  },
  "toc": {
   "base_numbering": 1,
   "nav_menu": {},
   "number_sections": true,
   "sideBar": true,
   "skip_h1_title": false,
   "title_cell": "Table of Contents",
   "title_sidebar": "Contents",
   "toc_cell": false,
   "toc_position": {},
   "toc_section_display": true,
   "toc_window_display": false
  }
 },
 "nbformat": 4,
 "nbformat_minor": 2
}
