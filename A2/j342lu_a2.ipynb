{
 "cells": [
  {
   "cell_type": "markdown",
   "metadata": {},
   "source": [
    "# YOU_a2 (v1.0)"
   ]
  },
  {
   "cell_type": "code",
   "execution_count": 1,
   "metadata": {
    "code_folding": [
     0
    ]
   },
   "outputs": [],
   "source": [
    "# Standard imports\n",
    "import numpy as np\n",
    "import matplotlib.pylab as plt\n",
    "%matplotlib inline\n",
    "import importlib\n",
    "import time"
   ]
  },
  {
   "cell_type": "markdown",
   "metadata": {
    "heading_collapsed": true
   },
   "source": [
    "# Q1: Logistic Function"
   ]
  },
  {
   "cell_type": "markdown",
   "metadata": {
    "hidden": true
   },
   "source": [
    "$$\\begin{align}\n",
    "\\frac{d \\sigma(z)}{dz}\n",
    "    &= -\\frac{-e^{-z}}{{(1+e^{-z})}^2}\\\\\n",
    "    &= \\frac{1}{1+e^{-z}} \\cdot \\frac{e^{-z}}{1+e^{-z}}\\\\\n",
    "    &= \\sigma(z)(1-\\sigma(z))\n",
    "\\end{align}\n",
    "$$"
   ]
  },
  {
   "cell_type": "markdown",
   "metadata": {
    "hidden": true
   },
   "source": [
    "To help you with $\\LaTeX$, and to show you my expectations, here is a sample taken from the lecture notes, taken from the 3rd and 4th page of the notes entitled \"Error Backpropagation\". It has nothing to do with the solution to this question, but just demonstrates some of the features of $\\LaTeX$. Notice how I include English statments to guide the reader through the derivation.\n",
    "\n",
    "<a target=_new href=\"http://detexify.kirelabs.org/classify.html\">This web page</a> is very handy for identifying $\\LaTeX$ symbols.\n",
    "\n",
    "---\n",
    "More generally, for $\\vec{x} \\in \\mathbb{R}^X$, $\\vec{h} \\in \\mathbb{R}^H$, and $\\vec{y} \\in \\mathbb{R}^Y$.\n",
    "$$\n",
    "\\begin{align}\n",
    "\\frac{\\partial E}{\\partial \\alpha_i}\n",
    "  &= \\frac{d h_i}{d \\alpha_i} \\\\\n",
    "  &= \\frac{d h_i}{d \\alpha_i}\n",
    "  \\left[ M_{1i} \\ \\cdots \\ M_{Yi} \\right] \\cdot\n",
    "  \\left[ \\frac{\\partial E}{\\partial \\beta_1} \\ \\cdots \\ \\frac{\\partial E}{\\partial \\beta_Y} \\right] \\\\\n",
    "  &= \\frac{d h_i}{d \\alpha_i}\n",
    "   \\left[ M_{1i} \\ \\cdots \\ M_{Yi} \\right]\n",
    "   \\left[ \\begin{array}{c}\n",
    "     \\frac{\\partial E}{\\partial \\beta_1} \\\\\n",
    "     \\vdots \\\\\n",
    "     \\frac{\\partial E}{\\partial \\beta_Y} \\end{array} \\right]\n",
    "\\end{align}\n",
    "$$\n",
    "Thus, for all elements,\n",
    "$$\n",
    "\\begin{align}\n",
    "\\left[ \\begin{array}{c}\n",
    "  \\frac{\\partial E}{\\partial \\alpha_1} \\\\\n",
    "  \\vdots \\\\\n",
    "  \\frac{\\partial E}{\\partial \\alpha_H}\n",
    "\\end{array} \\right] &=\n",
    "%\n",
    "\\left[ \\begin{array}{c}\n",
    "  \\frac{d h_1}{d \\alpha_1} \\\\\n",
    "  \\vdots \\\\\n",
    "  \\frac{d h_H}{d \\alpha_H}\n",
    "\\end{array} \\right]\n",
    "\\odot\n",
    "\\left[ \\begin{array}{ccc}\n",
    "  M_{11} & \\cdots & M_{Y1} \\\\\n",
    "  \\vdots & \\ddots & \\vdots \\\\\n",
    "  M_{1H} & \\cdots & M_{YH}\n",
    "\\end{array} \\right]\n",
    "%\n",
    "\\left[ \\begin{array}{c}\n",
    "  \\frac{\\partial E}{\\partial \\beta_1} \\\\\n",
    "  \\vdots \\\\\n",
    "  \\frac{\\partial E}{\\partial \\beta_Y}\n",
    "\\end{array} \\right] \\\\\n",
    "%\n",
    "\\frac{\\partial E}{\\partial \\vec{\\alpha}} &=\n",
    "\\frac{d \\vec{h}}{d \\vec{\\alpha}} \\odot M^\\mathrm{T}\n",
    "\\frac{\\partial E}{\\partial \\vec{\\beta}}\n",
    "\\end{align}\n",
    "$$\n",
    "\n"
   ]
  },
  {
   "cell_type": "markdown",
   "metadata": {
    "heading_collapsed": true
   },
   "source": [
    "# Q2: Softmax"
   ]
  },
  {
   "cell_type": "markdown",
   "metadata": {
    "hidden": true
   },
   "source": [
    "Let $e_k = e^{z_k}$. \n",
    "$$\\begin{align}\n",
    "\\frac{\\partial E}{\\partial z_j}\n",
    "    &= \\frac{\\partial E}{\\partial e_j} \\cdot \\frac{d e_j}{d z_j}\\\\\n",
    "\\end{align}\n",
    "$$\n",
    "For $\\frac{d e_j}{d z_j}$, we have:\n",
    "$$\\begin{align}\n",
    "\\frac{d e_j}{d z_j} = e^{z_j}\n",
    "\\end{align}\n",
    "$$\n",
    "For $\\frac{\\partial E}{\\partial e_j}$, we have:\n",
    "$$\\begin{align}\n",
    "\\frac{\\partial E}{\\partial e_j}\n",
    "    &= \\sum\\limits_{i=1}^k \\frac{\\partial E}{\\partial y_i} \\cdot \\frac{\\partial y_i}{\\partial e_j}\n",
    "\\end{align}\n",
    "$$\n",
    "For $\\frac{\\partial E}{\\partial y_i}$, we have:\n",
    "$$\\begin{align}\n",
    "\\frac{\\partial E}{\\partial y_i}\n",
    "    &= - \\frac{t_i}{y_i}\n",
    "\\end{align}\n",
    "$$\n",
    "Let $g = \\sum\\limits_{j=1}^k e^{z_j} = \\sum\\limits_{j=1}^k e_j$.\n",
    "  \n",
    "For $\\frac{\\partial y_i}{\\partial e_j}$, we have:\n",
    "  \n",
    "If $i \\neq j$:\n",
    "$$\\begin{align}\n",
    "\\frac{\\partial y_i}{\\partial e_j} = - \\frac{e_i}{g^2}\n",
    "\\end{align}\n",
    "$$\n",
    "if $i = j$:\n",
    "$$\\begin{align}\n",
    "\\frac{\\partial y_i}{\\partial e_j} = \\frac{1}{g} - \\frac{e_i}{g^2}\n",
    "\\end{align}\n",
    "$$\n",
    "Therefore, we have:\n",
    "$$\\begin{align}\n",
    "\\frac{\\partial E}{\\partial z_j}\n",
    "    &= \\frac{\\partial E}{\\partial e_j} \\cdot \\frac{d e_j}{d z_j}\\\\\n",
    "    &= e^{z_j} \\sum\\limits_{i=1}^k \\frac{\\partial E}{\\partial y_i} \\cdot \\frac{\\partial y_i}{\\partial e_j}\\\\\n",
    "    &= e^{z_j} \\sum\\limits_{i=1}^k - \\frac{t_i}{y_i} \\cdot \\frac{\\partial y_i}{\\partial e_j}\\\\\n",
    "    &= e^{z_j} \\sum\\limits_{i=1}^k \\frac{t_i}{y_i}\\frac{e_i}{g^2} - e^{z_j}\\frac{t_j}{y_j}\\frac{1}{g} \\\\\n",
    "    &= e^{z_j} (- \\frac{t_j}{y_j}\\frac{1}{g} + \\sum\\limits_{i=1}^k \\frac{t_i}{y_i}\\frac{e_i}{g^2} )\n",
    "\\end{align}\n",
    "$$\n",
    "where $g = \\sum\\limits_{j=1}^k e^{z_j} = \\sum\\limits_{j=1}^k e_j$.\n"
   ]
  },
  {
   "cell_type": "markdown",
   "metadata": {
    "heading_collapsed": true
   },
   "source": [
    "# Q3: Top-Layer Error Gradients"
   ]
  },
  {
   "cell_type": "markdown",
   "metadata": {
    "hidden": true
   },
   "source": [
    "(a)Cross entropy, and logistic activation function.\n",
    "$$\\begin{align}\n",
    "\\frac{\\partial E}{\\partial z} \n",
    "    &= \\frac{\\partial E}{\\partial y} \\frac{dy}{dz}\\\\\n",
    "    &= (\\frac{-t}{y} + \\frac{1-t}{1-y}) \\cdot y(1-y)\\\\\n",
    "    &= -t(1-y) + (1-t)y\n",
    "\\end{align}\n",
    "$$\n",
    "  \n",
    "(b)Mean squared error, and identity activation function, $\\sigma(z) = z$.\n",
    "$$\\begin{align}\n",
    "\\frac{\\partial E}{\\partial z} \n",
    "    &= \\frac{\\partial E}{\\partial y} \\frac{dy}{dz}\\\\\n",
    "    &= 2(y-t) \\cdot 1\\\\\n",
    "    &= 2(y-t)\n",
    "\\end{align}\n",
    "$$"
   ]
  },
  {
   "cell_type": "markdown",
   "metadata": {
    "collapsed": true
   },
   "source": [
    "# Q4: Implementing Backprop"
   ]
  },
  {
   "cell_type": "markdown",
   "metadata": {
    "heading_collapsed": true
   },
   "source": [
    "## Supplied Helper Functions"
   ]
  },
  {
   "cell_type": "code",
   "execution_count": 2,
   "metadata": {
    "code_folding": [
     16,
     35
    ],
    "hidden": true
   },
   "outputs": [],
   "source": [
    "# Supplied functions\n",
    "\n",
    "def NSamples(x):\n",
    "    '''\n",
    "        n = NSamples(x)\n",
    "        \n",
    "        Returns the number of samples in a batch of inputs.\n",
    "        \n",
    "        Input:\n",
    "         x   is a 2D array\n",
    "        \n",
    "        Output:\n",
    "         n   is an integer\n",
    "    '''\n",
    "    return len(x)\n",
    "\n",
    "def Shuffle(inputs, targets):\n",
    "    '''\n",
    "        s_inputs, s_targets = Shuffle(inputs, targets)\n",
    "        \n",
    "        Randomly shuffles the dataset.\n",
    "        \n",
    "        Inputs:\n",
    "         inputs     array of inputs\n",
    "         targets    array of corresponding targets\n",
    "         \n",
    "        Outputs:\n",
    "         s_inputs   shuffled array of inputs\n",
    "         s_targets  corresponding shuffled array of targets\n",
    "    '''\n",
    "    data = list(zip(inputs,targets))\n",
    "    np.random.shuffle(data)\n",
    "    s_inputs, s_targets = zip(*data)\n",
    "    return np.array(s_inputs), np.array(s_targets)\n",
    "\n",
    "def Logistic(z):\n",
    "    '''\n",
    "        y = Logistic(z)\n",
    "\n",
    "        Applies the logistic function to each element in z.\n",
    "\n",
    "        Input:\n",
    "         z    is a scalar, list or array\n",
    "\n",
    "        Output:\n",
    "         y    is the same shape as z\n",
    "    '''\n",
    "    return 1. / (1 + np.exp(-z) )\n",
    "\n",
    "def Logistic_p(h):\n",
    "    '''\n",
    "        yp = Logistic_p(h)\n",
    "        \n",
    "        Returns the slope of the logistic function at z when h = Logistic(z).\n",
    "        Note the h is the input, NOT z.\n",
    "    '''\n",
    "    return h*(1.-h)\n",
    "\n",
    "def Identity(z):\n",
    "    '''\n",
    "        y = Identity(z)\n",
    "\n",
    "        Does nothing... simply returns z.\n",
    "\n",
    "        Input:\n",
    "         z    is a scalar, list or array\n",
    "\n",
    "        Output:\n",
    "         y    is the same shape as z\n",
    "    '''\n",
    "    return z\n",
    "\n",
    "def Identity_p(h):\n",
    "    '''\n",
    "        yp = Identity_p(h)\n",
    "        \n",
    "        Returns the slope of the identity function h.\n",
    "    '''\n",
    "    return np.ones_like(h)\n",
    "\n",
    "def OneHot(z):\n",
    "    '''\n",
    "        y = OneHot(z)\n",
    "\n",
    "        Applies the one-hot function to the vectors in z.\n",
    "        Example:\n",
    "          OneHot([[0.9, 0.1], [-0.5, 0.1]])\n",
    "          returns np.array([[1,0],[0,1]])\n",
    "\n",
    "        Input:\n",
    "         z    is a 2D array of samples\n",
    "\n",
    "        Output:\n",
    "         y    is an array the same shape as z\n",
    "    '''\n",
    "    y = []\n",
    "    # Locate the max of each row\n",
    "    for zz in z:\n",
    "        idx = np.argmax(zz)\n",
    "        b = np.zeros_like(zz)\n",
    "        b[idx] = 1.\n",
    "        y.append(b)\n",
    "    y = np.array(y)\n",
    "    return y"
   ]
  },
  {
   "cell_type": "markdown",
   "metadata": {},
   "source": [
    "## Layer Class"
   ]
  },
  {
   "cell_type": "code",
   "execution_count": 3,
   "metadata": {},
   "outputs": [],
   "source": [
    "class Layer():\n",
    "    \n",
    "    def __init__(self, n_nodes, act='logistic'):\n",
    "        '''\n",
    "            lyr = Layer(n_nodes, act='logistic')\n",
    "            \n",
    "            Creates a layer object.\n",
    "            \n",
    "            Inputs:\n",
    "             n_nodes  the number of nodes in the layer\n",
    "             act      specifies the activation function\n",
    "                      Use 'logistic' or 'identity'\n",
    "        '''\n",
    "        self.N = n_nodes  # number of nodes in this layer\n",
    "        self.h = []       # node activities\n",
    "        self.b = np.zeros(self.N)  # biases\n",
    "        \n",
    "        # Activation functions\n",
    "        self.sigma = Logistic\n",
    "        self.sigma_p = (lambda : Logistic_p(self.h))\n",
    "        if act=='identity':\n",
    "            self.sigma = Identity\n",
    "            self.sigma_p = (lambda : Identity_p(self.h))"
   ]
  },
  {
   "cell_type": "markdown",
   "metadata": {},
   "source": [
    "## Network Class"
   ]
  },
  {
   "cell_type": "code",
   "execution_count": 4,
   "metadata": {
    "code_folding": [
     2,
     65,
     81
    ]
   },
   "outputs": [],
   "source": [
    "class Network():\n",
    "\n",
    "    def __init__(self, sizes, type='classifier'):\n",
    "        '''\n",
    "            net = Network(sizes, type='classifier')\n",
    "\n",
    "            Creates a Network and saves it in the variable 'net'.\n",
    "\n",
    "            Inputs:\n",
    "              sizes is a list of integers specifying the number\n",
    "                  of nodes in each layer\n",
    "                  eg. [5, 20, 3] will create a 3-layer network\n",
    "                      with 5 input, 20 hidden, and 3 output nodes\n",
    "              type can be either 'classifier' or 'regression', and\n",
    "                  sets the activation function on the output layer,\n",
    "                  as well as the loss function.\n",
    "                  'classifier': logistic, cross entropy\n",
    "                  'regression': linear, mean squared error\n",
    "        '''\n",
    "        self.n_layers = len(sizes)\n",
    "        self.lyr = []    # a list of Layers\n",
    "        self.W = []      # Weight matrices, indexed by the layer below it\n",
    "        \n",
    "        # Two common types of networks\n",
    "        # The member variable self.Loss refers to one of the implemented\n",
    "        # loss functions: MSE, or CrossEntropy.\n",
    "        # Call it using self.Loss(t)\n",
    "        if type=='classifier':\n",
    "            self.classifier = True\n",
    "            self.Loss = self.CrossEntropy\n",
    "            activation = 'logistic'\n",
    "        else:\n",
    "            self.classifier = False\n",
    "            self.Loss = self.MSE\n",
    "            activation = 'identity'\n",
    "\n",
    "        # Create and add Layers (using logistic for hidden layers)\n",
    "        for n in sizes[:-1]:\n",
    "            self.lyr.append( Layer(n) )\n",
    "   \n",
    "        # For the top layer, we use the appropriate activtaion function\n",
    "        self.lyr.append( Layer(sizes[-1], act=activation) )\n",
    "    \n",
    "        # Randomly initialize weight matrices\n",
    "        for idx in range(self.n_layers-1):\n",
    "            m = self.lyr[idx].N\n",
    "            n = self.lyr[idx+1].N\n",
    "            temp = np.random.normal(size=[m,n])/np.sqrt(m)\n",
    "            self.W.append(temp)\n",
    "\n",
    "\n",
    "    def FeedForward(self, x):\n",
    "        '''\n",
    "            y = net.FeedForward(x)\n",
    "\n",
    "            Runs the network forward, starting with x as input.\n",
    "            Returns the activity of the output layer.\n",
    "        '''\n",
    "        x = np.array(x)  # Convert input to array, in case it's not\n",
    "        \n",
    "        #===== YOUR CODE HERE =====\n",
    "        z = x\n",
    "        self.lyr[0].h = x\n",
    "        for i in range(self.n_layers - 1):\n",
    "            z = self.lyr[i].h\n",
    "            layer = self.lyr[i+1]\n",
    "            w = self.W[i]\n",
    "            b = layer.b\n",
    "            sigma = layer.sigma\n",
    "            layer.h = sigma(np.dot(z, w) + b)\n",
    "            \n",
    "            \n",
    "        return self.lyr[-1].h\n",
    "\n",
    "    \n",
    "    def Evaluate(self, inputs, targets):\n",
    "        '''\n",
    "            E = net.Evaluate(data)\n",
    "\n",
    "            Computes the average loss over the supplied dataset.\n",
    "\n",
    "            Inputs\n",
    "             inputs  is an array of inputs\n",
    "             targets is a list of corresponding targets\n",
    "\n",
    "            Outputs\n",
    "             E is a scalar, the average loss\n",
    "        '''\n",
    "        y = self.FeedForward(inputs)\n",
    "        return self.Loss(targets)\n",
    "\n",
    "    def ClassificationAccuracy(self, inputs, targets):\n",
    "        '''\n",
    "            a = net.ClassificationAccuracy(data)\n",
    "            \n",
    "            Returns the fraction (between 0 and 1) of correct one-hot classifications\n",
    "            in the dataset.\n",
    "        '''\n",
    "        y = self.FeedForward(inputs)\n",
    "        yb = OneHot(y)\n",
    "        n_incorrect = np.sum(yb!=targets) / 2.\n",
    "        return 1. - float(n_incorrect) / NSamples(inputs)\n",
    "\n",
    "    \n",
    "    def CrossEntropy(self, t):\n",
    "        '''\n",
    "            E = net.CrossEntropy(t)\n",
    "\n",
    "            Evaluates the mean cross entropy loss between t and the activity of the top layer.\n",
    "            To evaluate the network's performance on an input/output pair (x,t), use\n",
    "              net.FeedForward(x)\n",
    "              E = net.Loss(t)\n",
    "\n",
    "            Inputs:\n",
    "              t is an array holding the target output\n",
    "\n",
    "            Outputs:\n",
    "              E is the loss function for the given case\n",
    "        '''\n",
    "        \n",
    "        #===== YOUR CODE HERE =====\n",
    "        y = self.lyr[-1].h\n",
    "        a = np.log(y)\n",
    "        b = np.log(1-y)\n",
    "        loss = np.mean(-t * a - (1 - t) * b)\n",
    "        return loss\n",
    "\n",
    "    \n",
    "    def MSE(self, t):\n",
    "        '''\n",
    "            E = net.MSE(t)\n",
    "\n",
    "            Evaluates the MSE loss function using t and the activity of the top layer.\n",
    "            To evaluate the network's performance on an input/output pair (x,t), use\n",
    "              net.FeedForward(x)\n",
    "              E = net.Loss(t)\n",
    "\n",
    "            Inputs:\n",
    "              t is an array holding the target output\n",
    "\n",
    "            Outputs:\n",
    "              E is the loss function for the given case\n",
    "        '''\n",
    "        \n",
    "        #===== YOUR CODE HERE =====\n",
    "        y = self.lyr[-1].h\n",
    "        loss = np.mean(np.square(y - t))\n",
    "        return loss\n",
    "\n",
    "    \n",
    "    def BackProp(self, t, lrate=0.05):\n",
    "        '''\n",
    "            net.BackProp(targets, lrate=0.05)\n",
    "            \n",
    "            Given the current network state and targets t, updates the connection\n",
    "            weights and biases using the backpropagation algorithm.\n",
    "            \n",
    "            Inputs:\n",
    "             t      an array of targets (number of samples must match the\n",
    "                    network's output)\n",
    "             lrate  learning rate\n",
    "        '''\n",
    "        t = np.array(t)  # convert t to an array, in case it's not\n",
    "        n = self.n_layers\n",
    "        #===== YOUR CODE HERE =====\n",
    "        '''\n",
    "        if self.classifier == True:\n",
    "            y = self.lyr[-1].h\n",
    "            b1 = self.lyr[-1].b\n",
    "            W1 = self.W[-1]\n",
    "            x_hat = self.lyr[-2].h\n",
    "            x = self.lyr[-3].h\n",
    "            N = self.lyr[0].h.shape[0]\n",
    "\n",
    "            # calculate the last layer\n",
    "            dydZ1 = Logistic_p(y)\n",
    "            \n",
    "            # dydZ1 = Identity_p(y)\n",
    "            a = -t / y\n",
    "            b = (1-t) / (1-y)\n",
    "            dEdy = 1.0 / N * (a + b)\n",
    "            #print(dEdy)\n",
    "            # dEdy = y-t\n",
    "            dEdZ1 = dydZ1 * dEdy\n",
    "            dZ1dW1 = x_hat.T\n",
    "            dEdW1 = np.dot(dZ1dW1, dEdZ1)\n",
    "            dEdb1 = np.mean(dEdZ1, axis=0).T\n",
    "            \n",
    "            # update W and b\n",
    "            self.W[-1] -= lrate * dEdW1\n",
    "            self.lyr[-1].b = self.lyr[-1].b - lrate * dEdb1 \n",
    "            \n",
    "            # going backwards\n",
    "            dx_hatdZ0 = Logistic_p(x_hat)\n",
    "            dZ1dx_hat = W1.T\n",
    "            dEdx_hat = np.dot(dEdZ1, dZ1dx_hat)\n",
    "            dEdZ0 = dx_hatdZ0 * dEdx_hat\n",
    "            dZ0dW0 = x.T\n",
    "            dEdW0 = np.dot(dZ0dW0, dEdZ0)\n",
    "            dEdb0 = np.mean(dEdZ0, axis=0).T\n",
    "            \n",
    "            # update W and b\n",
    "            self.W[0] -= lrate * dEdW0\n",
    "            self.lyr[1].b = self.lyr[1].b - lrate * dEdb0\n",
    "            \n",
    "            # Lastly, change dEdZ1\n",
    "            #dEdZ1 = dEdZ0\n",
    "        else:\n",
    "            y = self.lyr[-1].h\n",
    "            b1 = self.lyr[-1].b\n",
    "            W1 = self.W[-1]\n",
    "            x_hat = self.lyr[-2].h\n",
    "            x = self.lyr[-3].h\n",
    "            N = self.lyr[0].h.shape[0]\n",
    "            \n",
    "            # calculate the last layer\n",
    "            dydZ1 = Identity_p(y)\n",
    "            dEdy = 1.0 / N * (y-t)\n",
    "            dEdZ1 = dydZ1 * dEdy\n",
    "            dZ1dW1 = x_hat.T\n",
    "            dEdW1 = np.dot(dZ1dW1, dEdZ1)\n",
    "            dEdb1 = np.mean(dEdZ1, axis=0).T\n",
    "            \n",
    "            # update W and b\n",
    "            self.W[-1] -= lrate * dEdW1\n",
    "            self.lyr[-1].b = self.lyr[-1].b - lrate * dEdb1 \n",
    "            \n",
    "            # going backwards\n",
    "            dx_hatdZ0 = Logistic_p(x_hat)\n",
    "            dZ1dx_hat = W1.T\n",
    "            dEdx_hat = np.dot(dEdZ1, dZ1dx_hat)\n",
    "            dEdZ0 = dx_hatdZ0 * dEdx_hat\n",
    "            dZ0dW0 = x.T\n",
    "            dEdW0 = np.dot(dZ0dW0, dEdZ0)\n",
    "            dEdb0 = np.mean(dEdZ0, axis=0).T\n",
    "            \n",
    "            # update W and b\n",
    "            self.W[0] -= lrate * dEdW0\n",
    "            self.lyr[1].b = self.lyr[1].b - lrate * dEdb0\n",
    "            \n",
    "        '''\n",
    "        y = self.lyr[-1].h\n",
    "        b1 = self.lyr[-1].b\n",
    "        W1 = self.W[-1]\n",
    "        x_hat = self.lyr[-2].h\n",
    "        N = self.lyr[0].h.shape[0]\n",
    "        \n",
    "        if self.classifier == True: \n",
    "            # calculate the last layer\n",
    "            dydZ1 = Logistic_p(y)      \n",
    "            # dydZ1 = Identity_p(y)\n",
    "            a = -t / y\n",
    "            b = (1-t) / (1-y)\n",
    "            dEdy = 1.0 / N * (a + b)\n",
    "            # dEdy = 1.0 / N * (y-t)\n",
    "            dEdZ1 = dydZ1 * dEdy\n",
    "            dZ1dW1 = x_hat.T\n",
    "            dEdW1 = np.dot(dZ1dW1, dEdZ1)\n",
    "            dEdb1 = np.mean(dEdZ1, axis=0).T\n",
    "            \n",
    "            # update W and b\n",
    "            self.W[-1] -= lrate * dEdW1\n",
    "            self.lyr[-1].b =  self.lyr[-1].b - lrate * dEdb1 \n",
    "            \n",
    "            for i in range(2, n):\n",
    "                # going backwards\n",
    "                layer = self.lyr[n-i]\n",
    "                previous_layer = self.lyr[n-i-1]\n",
    "                x_hat = layer.h\n",
    "                x = previous_layer.h\n",
    "                b0 = layer.b\n",
    "                W0 = self.W[n-i-1]\n",
    "                W1 = self.W[n-i]\n",
    "                dx_hatdZ0 = Logistic_p(x_hat)\n",
    "                dZ1dx_hat = W1.T\n",
    "                dEdx_hat = np.dot(dEdZ1, dZ1dx_hat)\n",
    "                dEdZ0 = dx_hatdZ0 * dEdx_hat\n",
    "                dZ0dW0 = x.T\n",
    "                dEdW0 = np.dot(dZ0dW0, dEdZ0)\n",
    "                dEdb0 = np.mean(dEdZ0, axis=0).T\n",
    "                # update W and b\n",
    "\n",
    "                W0 -= lrate * dEdW0\n",
    "                layer.b -= lrate * dEdb0\n",
    "                # Lastly, change dEdZ1\n",
    "                dEdZ1 = dEdZ0.copy()\n",
    "                \n",
    "        else:\n",
    "            # calculate the last layer\n",
    "            # dydZ1 = Logistic_p(y)\n",
    "            dydZ1 = Identity_p(y)\n",
    "            dEdy = 1.0 / N * (y-t)\n",
    "            dEdZ1 = dydZ1 * dEdy\n",
    "            dZ1dW1 = x_hat.T\n",
    "            dEdW1 = np.dot(dZ1dW1, dEdZ1)\n",
    "            dEdb1 = np.mean(dEdZ1, axis=0).T\n",
    "            # update W and b\n",
    "            self.W[-1] -= lrate * dEdW1\n",
    "            self.lyr[-1].b = self.lyr[-1].b - lrate * dEdb1  \n",
    "            \n",
    "            for i in range(2, n):\n",
    "                # going backwards\n",
    "                layer = self.lyr[n-i]\n",
    "                previous_layer = self.lyr[n-i-1]\n",
    "                x_hat = layer.h\n",
    "                x = previous_layer.h\n",
    "                b0 = layer.b\n",
    "                W0 = self.W[n-i-1]\n",
    "                W1 = self.W[n-i]\n",
    "                dx_hatdZ0 = Logistic_p(x_hat)\n",
    "                dZ1dx_hat = W1.T\n",
    "                dEdx_hat = np.dot(dEdZ1, dZ1dx_hat)\n",
    "                dEdZ0 = dx_hatdZ0 * dEdx_hat\n",
    "                dZ0dW0 = x.T\n",
    "                dEdW0 = np.dot(dZ0dW0, dEdZ0)\n",
    "                dEdb0 = np.mean(dEdZ0, axis=0).T\n",
    "                # update W and b\n",
    "                W0 -= lrate * dEdW0\n",
    "                layer.b -= lrate * dEdb0\n",
    "                \n",
    "                # Lastly, change dEdZ1\n",
    "                dEdZ1 = dEdZ0.copy()\n",
    "            \n",
    "                \n",
    "    def Learn(self, inputs, targets, lrate=0.05, epochs=1):\n",
    "        '''\n",
    "            Network.Learn(inputs, targets, lrate=0.05, epochs=1)\n",
    "\n",
    "            Run through the dataset 'epochs' number of times, incrementing the\n",
    "            network weights for each training sample. For each epoch, it\n",
    "            shuffles the order of the samples.\n",
    "\n",
    "            Inputs:\n",
    "              inputs  is an array of input samples\n",
    "              targets is a corresponding array of targets\n",
    "              lrate   is the learning rate (try 0.001 to 0.5)\n",
    "              epochs  is the number of times to go through the training data\n",
    "        '''\n",
    "        \n",
    "        #===== YOUR CODE HERE ====#\n",
    "        for epoch in range(epochs):\n",
    "            x, t = Shuffle(inputs, targets)\n",
    "            self.FeedForward(x)\n",
    "            self.BackProp(t, lrate)\n",
    "            \n"
   ]
  },
  {
   "cell_type": "markdown",
   "metadata": {
    "heading_collapsed": true
   },
   "source": [
    "# Classification"
   ]
  },
  {
   "cell_type": "markdown",
   "metadata": {
    "heading_collapsed": true,
    "hidden": true
   },
   "source": [
    "## Create a Classification Dataset"
   ]
  },
  {
   "cell_type": "code",
   "execution_count": 5,
   "metadata": {
    "code_folding": [],
    "hidden": true
   },
   "outputs": [],
   "source": [
    "# 5 Classes in 8-Dimensional Space\n",
    "np.random.seed(15)\n",
    "noise = 0.1\n",
    "InputClasses = np.array([[1,0,1,0,0,1,1,0],\n",
    "                         [0,1,0,1,0,1,0,1],\n",
    "                         [0,1,1,0,1,0,0,1],\n",
    "                         [1,0,0,0,1,0,1,1],\n",
    "                         [1,0,0,1,0,1,0,1]], dtype=float)\n",
    "OutputClasses = np.array([[1,0,0,0,0],\n",
    "                          [0,1,0,0,0],\n",
    "                          [0,0,1,0,0],\n",
    "                          [0,0,0,1,0],\n",
    "                          [0,0,0,0,1]], dtype=float)\n",
    "n_input = np.shape(InputClasses)[1]\n",
    "n_output = np.shape(OutputClasses)[1]\n",
    "n_classes = np.shape(InputClasses)[0]\n",
    "\n",
    "# Create a training dataset\n",
    "n_samples = 100\n",
    "training_output = []\n",
    "training_input = []\n",
    "for idx in range(n_samples):\n",
    "    k = np.random.randint(n_classes)\n",
    "    x = InputClasses[k,:] + np.random.normal(size=n_input)*noise\n",
    "    t = OutputClasses[k,:]\n",
    "    training_input.append(x)\n",
    "    training_output.append(t)\n",
    "\n",
    "# Create a test dataset\n",
    "n_samples = 100\n",
    "test_output = []\n",
    "test_input = []\n",
    "for idx in range(n_samples):\n",
    "    k = np.random.randint(n_classes)\n",
    "    x = InputClasses[k,:] + np.random.normal(size=n_input)*noise\n",
    "    t = OutputClasses[k,:]\n",
    "    test_input.append(x)\n",
    "    test_output.append(t)\n",
    "\n",
    "train = [np.array(training_input), np.array(training_output)]\n",
    "test = [np.array(test_input), np.array(test_output)]"
   ]
  },
  {
   "cell_type": "markdown",
   "metadata": {
    "heading_collapsed": true,
    "hidden": true
   },
   "source": [
    "## Neural Network Model"
   ]
  },
  {
   "cell_type": "code",
   "execution_count": 6,
   "metadata": {
    "hidden": true
   },
   "outputs": [],
   "source": [
    "# Create a Network\n",
    "net = Network([n_input, 18, n_output], type='classifier')"
   ]
  },
  {
   "cell_type": "code",
   "execution_count": 7,
   "metadata": {
    "hidden": true
   },
   "outputs": [
    {
     "name": "stdout",
     "output_type": "stream",
     "text": [
      "Cross Entropy = 0.7234102650666892\n",
      "     Accuracy = 26.0%\n"
     ]
    }
   ],
   "source": [
    "# Evaluate it before training\n",
    "CE = net.Evaluate(train[0], train[1])\n",
    "accuracy = net.ClassificationAccuracy(train[0], train[1])\n",
    "print('Cross Entropy = '+str(CE))\n",
    "print('     Accuracy = '+str(accuracy*100.)+'%')"
   ]
  },
  {
   "cell_type": "code",
   "execution_count": 8,
   "metadata": {
    "hidden": true
   },
   "outputs": [],
   "source": [
    "net.Learn(train[0], train[1], epochs=500, lrate=1.)"
   ]
  },
  {
   "cell_type": "markdown",
   "metadata": {
    "heading_collapsed": true,
    "hidden": true
   },
   "source": [
    "## Evaluate it After Training"
   ]
  },
  {
   "cell_type": "code",
   "execution_count": 9,
   "metadata": {
    "hidden": true
   },
   "outputs": [
    {
     "name": "stdout",
     "output_type": "stream",
     "text": [
      "Training Set\n",
      "Cross Entropy = 0.003651153826952998\n",
      "     Accuracy = 100.0%\n"
     ]
    }
   ],
   "source": [
    "print('Training Set')\n",
    "CE = net.Evaluate(train[0], train[1])\n",
    "accuracy = net.ClassificationAccuracy(train[0], train[1])\n",
    "print('Cross Entropy = '+str(CE))\n",
    "print('     Accuracy = '+str(accuracy*100.)+'%')"
   ]
  },
  {
   "cell_type": "code",
   "execution_count": 10,
   "metadata": {
    "hidden": true
   },
   "outputs": [
    {
     "name": "stdout",
     "output_type": "stream",
     "text": [
      "Test Set\n",
      "Cross Entropy = 0.003936938065971942\n",
      "     Accuracy = 100.0%\n"
     ]
    }
   ],
   "source": [
    "print('Test Set')\n",
    "CE = net.Evaluate(test[0], test[1])\n",
    "accuracy = net.ClassificationAccuracy(test[0], test[1])\n",
    "print('Cross Entropy = '+str(CE))\n",
    "print('     Accuracy = '+str(accuracy*100.)+'%')"
   ]
  },
  {
   "cell_type": "markdown",
   "metadata": {
    "heading_collapsed": true,
    "hidden": true
   },
   "source": [
    "## You can also try using the solutions"
   ]
  },
  {
   "cell_type": "code",
   "execution_count": 11,
   "metadata": {
    "hidden": true
   },
   "outputs": [],
   "source": [
    "import Network_solutions\n",
    "importlib.reload(Network_solutions)\n",
    "net2 = Network_solutions.Network([n_input, 18, n_output], type='classifier')"
   ]
  },
  {
   "cell_type": "code",
   "execution_count": 12,
   "metadata": {
    "hidden": true
   },
   "outputs": [
    {
     "name": "stdout",
     "output_type": "stream",
     "text": [
      "Training Set\n",
      "Cross Entropy = 0.8874576713656722\n",
      "     Accuracy = 96.0%\n",
      "Test Set\n",
      "Cross Entropy = 0.9454835621238554\n",
      "     Accuracy = 92.0%\n"
     ]
    }
   ],
   "source": [
    "net2.Learn(train[0], train[1], epochs=500, lrate=1.)\n",
    "print('Training Set')\n",
    "CE = net2.Evaluate(train[0], train[1])\n",
    "accuracy = net2.ClassificationAccuracy(train[0], train[1])\n",
    "print('Cross Entropy = '+str(CE))\n",
    "print('     Accuracy = '+str(accuracy*100.)+'%')\n",
    "print('Test Set')\n",
    "CE = net2.Evaluate(test[0], test[1])\n",
    "accuracy = net2.ClassificationAccuracy(test[0], test[1])\n",
    "print('Cross Entropy = '+str(CE))\n",
    "print('     Accuracy = '+str(accuracy*100.)+'%')"
   ]
  },
  {
   "cell_type": "markdown",
   "metadata": {
    "heading_collapsed": true
   },
   "source": [
    "# Regression"
   ]
  },
  {
   "cell_type": "markdown",
   "metadata": {
    "heading_collapsed": true,
    "hidden": true
   },
   "source": [
    "## Create a Regression Dataset"
   ]
  },
  {
   "cell_type": "code",
   "execution_count": 13,
   "metadata": {
    "code_folding": [],
    "hidden": true
   },
   "outputs": [],
   "source": [
    "# 1D -> 1D (linear mapping)\n",
    "np.random.seed(846)\n",
    "n_input = 1\n",
    "n_output = 1\n",
    "slope = np.random.rand() - 0.5\n",
    "intercept = np.random.rand()*2. - 1.\n",
    "\n",
    "def myfunc(x):\n",
    "    return slope*x+intercept\n",
    "\n",
    "# Create a training dataset\n",
    "n_samples = 200\n",
    "training_output = []\n",
    "training_input = []\n",
    "xv = np.linspace(-1, 1, n_samples)\n",
    "for idx in range(n_samples):\n",
    "    #x = np.random.rand()*2. - 1.\n",
    "    x = xv[idx]\n",
    "    t = myfunc(x) + np.random.normal(scale=0.1)\n",
    "    training_input.append(np.array([x]))\n",
    "    training_output.append(np.array([t]))\n",
    "\n",
    "# Create a testing dataset\n",
    "n_samples = 50\n",
    "test_input = []\n",
    "test_output = []\n",
    "xv = np.linspace(-1, 1, n_samples)\n",
    "for idx in range(n_samples):\n",
    "    #x = np.random.rand()*2. - 1.\n",
    "    x = xv[idx] + np.random.normal(scale=0.1)\n",
    "    t = myfunc(x) + np.random.normal(scale=0.1)\n",
    "    test_input.append(np.array([x]))\n",
    "    test_output.append(np.array([t]))\n",
    "\n",
    "# Create a perfect dataset\n",
    "n_samples = 100\n",
    "perfect_input = []\n",
    "perfect_output = []\n",
    "xv = np.linspace(-1, 1, n_samples)\n",
    "for idx in range(n_samples):\n",
    "    #x = np.random.rand()*2. - 1.\n",
    "    x = xv[idx]\n",
    "    t = myfunc(x)\n",
    "    perfect_input.append(np.array([x]))\n",
    "    perfect_output.append(np.array([t]))\n",
    "    \n",
    "train = [np.array(training_input), np.array(training_output)]\n",
    "test = [np.array(test_input), np.array(test_output)]\n",
    "perfect = [np.array(perfect_input), np.array(perfect_output)]"
   ]
  },
  {
   "cell_type": "markdown",
   "metadata": {
    "heading_collapsed": true,
    "hidden": true
   },
   "source": [
    "## Neural Network Model"
   ]
  },
  {
   "cell_type": "code",
   "execution_count": 14,
   "metadata": {
    "hidden": true
   },
   "outputs": [],
   "source": [
    "net = Network([1, 10, 1], type='regression')"
   ]
  },
  {
   "cell_type": "code",
   "execution_count": 15,
   "metadata": {
    "hidden": true
   },
   "outputs": [
    {
     "name": "stdout",
     "output_type": "stream",
     "text": [
      "MSE = 0.35753196157541495\n"
     ]
    }
   ],
   "source": [
    "# Evaluate it before training\n",
    "mse = net.Evaluate(train[0], train[1])\n",
    "print('MSE = '+str(mse))"
   ]
  },
  {
   "cell_type": "markdown",
   "metadata": {
    "heading_collapsed": true,
    "hidden": true
   },
   "source": [
    "## Training"
   ]
  },
  {
   "cell_type": "code",
   "execution_count": 16,
   "metadata": {
    "hidden": true
   },
   "outputs": [],
   "source": [
    "net.Learn(train[0], train[1], epochs=300)"
   ]
  },
  {
   "cell_type": "markdown",
   "metadata": {
    "heading_collapsed": true,
    "hidden": true
   },
   "source": [
    "## Evaluate it After Training"
   ]
  },
  {
   "cell_type": "code",
   "execution_count": 17,
   "metadata": {
    "hidden": true
   },
   "outputs": [
    {
     "name": "stdout",
     "output_type": "stream",
     "text": [
      "Training MSE = 0.014212274100459513\n"
     ]
    }
   ],
   "source": [
    "# On training dataset\n",
    "mse = net.Evaluate(train[0], train[1])\n",
    "print('Training MSE = '+str(mse))"
   ]
  },
  {
   "cell_type": "code",
   "execution_count": 18,
   "metadata": {
    "hidden": true
   },
   "outputs": [
    {
     "name": "stdout",
     "output_type": "stream",
     "text": [
      "Test MSE = 0.017380873656898315\n"
     ]
    }
   ],
   "source": [
    "# On test dataset\n",
    "mse = net.Evaluate(test[0], test[1])\n",
    "print('Test MSE = '+str(mse))"
   ]
  },
  {
   "cell_type": "code",
   "execution_count": 19,
   "metadata": {
    "hidden": true
   },
   "outputs": [],
   "source": [
    "# Evaluate our model and the TRUE solution (since we know it)\n",
    "s = np.linspace(-1, 1, 200)\n",
    "y = net.FeedForward(np.array([s]).T)\n",
    "p = [myfunc(x) for x in s]"
   ]
  },
  {
   "cell_type": "code",
   "execution_count": 20,
   "metadata": {
    "hidden": true
   },
   "outputs": [
    {
     "data": {
      "image/png": "[encoded data removed]",
      "text/plain": [
       "<matplotlib.figure.Figure at 0x206dd521f60>"
      ]
     },
     "metadata": {},
     "output_type": "display_data"
    }
   ],
   "source": [
    "# Plot the training data,\n",
    "# as well as out model and the true model\n",
    "plt.plot(s,y, 'r--')\n",
    "plt.plot(s,p, 'g:')\n",
    "plt.plot(training_input, training_output, 'bo')\n",
    "plt.xlabel('Input')\n",
    "plt.ylabel('Output');"
   ]
  },
  {
   "cell_type": "code",
   "execution_count": null,
   "metadata": {
    "hidden": true
   },
   "outputs": [],
   "source": []
  }
 ],
 "metadata": {
  "kernelspec": {
   "display_name": "Python [default]",
   "language": "python",
   "name": "python3"
  },
  "language_info": {
   "codemirror_mode": {
    "name": "ipython",
    "version": 3
   },
   "file_extension": ".py",
   "mimetype": "text/x-python",
   "name": "python",
   "nbconvert_exporter": "python",
   "pygments_lexer": "ipython3",
   "version": "3.6.4"
  },
  "toc": {
   "base_numbering": 1,
   "nav_menu": {},
   "number_sections": true,
   "sideBar": true,
   "skip_h1_title": false,
   "title_cell": "Table of Contents",
   "title_sidebar": "Contents",
   "toc_cell": false,
   "toc_position": {},
   "toc_section_display": true,
   "toc_window_display": false
  }
 },
 "nbformat": 4,
 "nbformat_minor": 2
}
